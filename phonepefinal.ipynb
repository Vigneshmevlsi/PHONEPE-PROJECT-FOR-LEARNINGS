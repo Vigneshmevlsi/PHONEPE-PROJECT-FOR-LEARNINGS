{
 "cells": [
  {
   "cell_type": "code",
   "execution_count": null,
   "id": "2600c496",
   "metadata": {},
   "outputs": [
    {
     "name": "stderr",
     "output_type": "stream",
     "text": [
      "2025-10-02 10:47:56.238 Thread 'MainThread': missing ScriptRunContext! This warning can be ignored when running in bare mode.\n"
     ]
    }
   ],
   "source": [
    "import pandas as pd\n",
    "import os\n",
    "import numpy\n",
    "import json\n",
    "import sqlite3\n",
    "import streamlit as st\n",
    "from streamlit_option_menu import option_menu\n",
    "import requests\n",
    "import pandas as pd\n",
    "import requests\n",
    "import json\n",
    "import plotly.express as px\n",
    "import numpy as np\n",
    "import sqlite3"
   ]
  },
  {
   "cell_type": "code",
   "execution_count": 2,
   "id": "9475fc01",
   "metadata": {},
   "outputs": [
    {
     "data": {
      "text/plain": [
       "5034"
      ]
     },
     "execution_count": 2,
     "metadata": {},
     "output_type": "execute_result"
    }
   ],
   "source": [
    "#Aggregate/Transaction\n",
    "path=\"E:/PhonePe/pulse-master/data/aggregated/transaction/country/india/state/\"\n",
    "agg_trans_state= os.listdir(path)\n",
    "\n",
    "transac_coloumn={\"State\":[],\"Year\":[],\"Quater\":[],\"Transaction_Name\":[],\"Transaction_Count\":[],\"Transaction_Amount\":[]}\n",
    "for i in agg_trans_state:\n",
    "    track=path+i+\"/\"\n",
    "    ag_tr_st_yr=os.listdir(track)\n",
    "    for j in ag_tr_st_yr:\n",
    "        year=track+j+\"/\"\n",
    "        jfile=os.listdir(year)\n",
    "        for k in jfile:\n",
    "            file=year+k\n",
    "            data=open(file,'r')\n",
    "            lod=json.load(data)\n",
    "            for l in lod [\"data\"][\"transactionData\"]:\n",
    "                Name=l['name']\n",
    "                Count=l[\"paymentInstruments\"][0]['count']\n",
    "                Amount=l[\"paymentInstruments\"][0]['amount']\n",
    "                transac_coloumn[\"Transaction_Name\"].append(Name)\n",
    "                transac_coloumn[\"Transaction_Count\"].append(Count)\n",
    "                transac_coloumn[\"Transaction_Amount\"].append(Amount)\n",
    "                transac_coloumn[\"State\"].append(i)\n",
    "                transac_coloumn[\"Year\"].append(j)\n",
    "                transac_coloumn[\"Quater\"].append(int(k.strip(\".json\")))\n",
    "\n",
    "Data_Frame=pd.DataFrame(transac_coloumn)  \n",
    "\n",
    "Data_Frame['State'] = Data_Frame['State'].str.replace('andaman-&-nicobar-islands', 'ANDAMAN & NICOBAR')\n",
    "Data_Frame['State'] = Data_Frame['State'].str.replace('-',' ')\n",
    "Data_Frame['State'] = Data_Frame['State'].str.replace('dadra-&-nagar-haveli-&-daman-&-diu','dadra and nagar haveli and daman and diu')\n",
    "Data_Frame['State'] = Data_Frame['State'].str.title()\n",
    "\n",
    "Data_Frame.to_csv(\"E:/PhonePe/Aggregate_Transaction.csv\",index=False)\n",
    "\n",
    "conn=sqlite3.connect(\"PhonePe.db\")\n",
    "cursor = conn.cursor()\n",
    "\n",
    "one = pd.read_csv(\"E:/PhonePe/Aggregate_Transaction.csv\")\n",
    "\n",
    "one.to_sql(\"Aggregate_Transaction\",conn,if_exists=\"replace\",index=False)\n",
    "\n",
    "\n"
   ]
  },
  {
   "cell_type": "code",
   "execution_count": null,
   "id": "e7b64be6",
   "metadata": {},
   "outputs": [],
   "source": [
    "1.TOTAL TRANSACTION AMOUNT BY STATE..........."
   ]
  },
  {
   "cell_type": "code",
   "execution_count": 11,
   "id": "6ab48daf",
   "metadata": {},
   "outputs": [],
   "source": [
    "cursor.execute(\"\"\"\n",
    "               SELECT State, SUM(Transaction_Amount)AS Total_Transaction_Amount\n",
    "               FROM Aggregate_Transaction\n",
    "               GROUP BY State\n",
    "               ORDER BY Total_Transaction_Amount DESC\n",
    "               ;\n",
    "\"\"\")\n",
    "\n",
    "result1 = cursor.fetchall()\n",
    "\n",
    "    \n"
   ]
  },
  {
   "cell_type": "code",
   "execution_count": null,
   "id": "be61eb92",
   "metadata": {},
   "outputs": [],
   "source": [
    "x = pd.DataFrame(result1)\n",
    "x"
   ]
  },
  {
   "cell_type": "code",
   "execution_count": null,
   "id": "1f5ba024",
   "metadata": {},
   "outputs": [],
   "source": [
    "2.QUARTERLY TRANSACTION TRENDS BY STATES"
   ]
  },
  {
   "cell_type": "code",
   "execution_count": 6,
   "id": "49bd334c",
   "metadata": {},
   "outputs": [],
   "source": [
    "cursor.execute(\"\"\"\n",
    "               SELECT State, Year, Quater, SUM(Transaction_Amount)AS Total_Transaction_Amount\n",
    "               FROM Aggregate_Transaction\n",
    "               GROUP BY State, Year, Quater\n",
    "               ORDER BY State, Year, Quater\n",
    "               ;\n",
    "\"\"\")\n",
    "result2 = cursor.fetchall()"
   ]
  },
  {
   "cell_type": "code",
   "execution_count": null,
   "id": "2021e54a",
   "metadata": {},
   "outputs": [],
   "source": [
    "3.TRANSACTION TYPE BREAKDOWN BY STATE"
   ]
  },
  {
   "cell_type": "code",
   "execution_count": null,
   "id": "6e9cc881",
   "metadata": {},
   "outputs": [
    {
     "data": {
      "text/plain": [
       "<sqlite3.Cursor at 0x2cece99e140>"
      ]
     },
     "execution_count": 16,
     "metadata": {},
     "output_type": "execute_result"
    }
   ],
   "source": [
    "cursor.execute(\"\"\"\n",
    "               SELECT State, Transaction_Name, SUM(Transaction_Amount)AS Total_Transaction_Amount\n",
    "               FROM Aggregate_Transaction\n",
    "               GROUP BY State, Transaction_Name\n",
    "               ORDER BY State, Total_Transaction_Amount DESC\n",
    "               ;\n",
    "\"\"\")\n",
    "result3 = cursor.fetchall()"
   ]
  },
  {
   "cell_type": "code",
   "execution_count": null,
   "id": "cced6635",
   "metadata": {},
   "outputs": [],
   "source": [
    "4.YEARLY GROWTH BY TRANSACTION TYPE"
   ]
  },
  {
   "cell_type": "code",
   "execution_count": null,
   "id": "13653062",
   "metadata": {},
   "outputs": [
    {
     "data": {
      "text/plain": [
       "<sqlite3.Cursor at 0x2cece99e140>"
      ]
     },
     "execution_count": 17,
     "metadata": {},
     "output_type": "execute_result"
    }
   ],
   "source": [
    "cursor.execute(\"\"\"\n",
    "               SELECT Year,Transaction_Name, SUM(Transaction_Amount)AS Total_Transaction_Amount\n",
    "               FROM Aggregate_Transaction\n",
    "               GROUP BY Year,Transaction_Name\n",
    "               ORDER BY Year,Transaction_Name\n",
    "               ;\n",
    "\"\"\")\n",
    "result4 = cursor.fetchall()"
   ]
  },
  {
   "cell_type": "code",
   "execution_count": 18,
   "id": "af079869",
   "metadata": {},
   "outputs": [
    {
     "ename": "SyntaxError",
     "evalue": "invalid decimal literal (2750592595.py, line 1)",
     "output_type": "error",
     "traceback": [
      "  \u001b[36mCell\u001b[39m\u001b[36m \u001b[39m\u001b[32mIn[18]\u001b[39m\u001b[32m, line 1\u001b[39m\n\u001b[31m    \u001b[39m\u001b[31m5.TOP TRANSACTION TYPES OVERALL\u001b[39m\n     ^\n\u001b[31mSyntaxError\u001b[39m\u001b[31m:\u001b[39m invalid decimal literal\n"
     ]
    }
   ],
   "source": [
    "5.TOP TRANSACTION TYPES OVERALL"
   ]
  },
  {
   "cell_type": "code",
   "execution_count": null,
   "id": "fbf795e3",
   "metadata": {},
   "outputs": [
    {
     "data": {
      "text/plain": [
       "<sqlite3.Cursor at 0x2cece99e140>"
      ]
     },
     "execution_count": 19,
     "metadata": {},
     "output_type": "execute_result"
    }
   ],
   "source": [
    "\n",
    "\n",
    "cursor.execute(\"\"\"\n",
    "               SELECT Transaction_Name, SUM(Transaction_Amount)AS Total_Transaction_Amount\n",
    "               FROM Aggregate_Transaction\n",
    "               GROUP BY Transaction_Name\n",
    "               ORDER BY Total_Transaction_Amount DESC\n",
    "               ;\n",
    "\"\"\")\n",
    "result5 = cursor.fetchall()"
   ]
  },
  {
   "cell_type": "code",
   "execution_count": 3,
   "id": "200aead9",
   "metadata": {},
   "outputs": [
    {
     "data": {
      "text/plain": [
       "6732"
      ]
     },
     "execution_count": 3,
     "metadata": {},
     "output_type": "execute_result"
    }
   ],
   "source": [
    "#Aggregate/User\n",
    "Agg_user_path=\"E:/PhonePe/pulse-master/data/aggregated/user/country/india/state/\"\n",
    "UserBy_State=os.listdir(Agg_user_path)\n",
    "\n",
    "User_coloumn={'State':[],'Year':[],'Quater':[],'User_Brand':[],'User_Count':[],'User_Percentage':[]}\n",
    "for st in UserBy_State:\n",
    "    way=Agg_user_path+st+\"/\"\n",
    "    yr=os.listdir(way)\n",
    "    for y in yr:\n",
    "        line=way+y+'/'\n",
    "        doc=os.listdir(line)\n",
    "        for d in doc:\n",
    "            trail=line+d\n",
    "            Document=open(trail,'r')\n",
    "            lode=json.load(Document)\n",
    "            try:\n",
    "                for e in lode[\"data\"][\"usersByDevice\"]: \n",
    "                    brand=e['brand']\n",
    "                    count=e['count']\n",
    "                    percent=e['percentage']\n",
    "                    User_coloumn['User_Brand'].append(brand)\n",
    "                    User_coloumn['User_Count'].append(count)\n",
    "                    User_coloumn['User_Percentage'].append(percent)\n",
    "                    User_coloumn['State'].append(st)\n",
    "                    User_coloumn['Year'].append(y)\n",
    "                    User_coloumn['Quater'].append(int(d.strip(\".json\")))\n",
    "            except:\n",
    "                pass\n",
    "            \n",
    "data_frame=pd.DataFrame(User_coloumn)\n",
    "\n",
    "data_frame['State'] = data_frame['State'].str.replace('andaman-&-nicobar-islands', 'ANDAMAN & NICOBAR')\n",
    "data_frame['State'] = data_frame['State'].str.replace('-',' ')\n",
    "data_frame['State'] = data_frame['State'].str.replace('dadra-&-nagar-haveli-&-daman-&-diu','dadra and nagar haveli and daman and diu')\n",
    "data_frame['State'] = data_frame['State'].str.title()\n",
    "\n",
    "data_frame.to_csv(\"E:/PhonePe/Aggregate_User.csv\",index=False)\n",
    "\n",
    "conn=sqlite3.connect(\"PhonePe.db\")\n",
    "cursor = conn.cursor()\n",
    "\n",
    "two = pd.read_csv(\"E:/PhonePe/Aggregate_User.csv\")\n",
    "\n",
    "two.to_sql(\"Aggregate_User\",conn,if_exists=\"replace\",index=False)\n",
    "\n",
    "\n",
    "\n",
    "\n",
    "\n",
    "\n"
   ]
  },
  {
   "cell_type": "code",
   "execution_count": null,
   "id": "9eaad7ee",
   "metadata": {},
   "outputs": [],
   "source": [
    "1.TOTAL REGISTERED USERS BY DEVICE BRAND"
   ]
  },
  {
   "cell_type": "code",
   "execution_count": 23,
   "id": "9151b993",
   "metadata": {},
   "outputs": [
    {
     "data": {
      "text/plain": [
       "<sqlite3.Cursor at 0x2ced0e29c40>"
      ]
     },
     "execution_count": 23,
     "metadata": {},
     "output_type": "execute_result"
    }
   ],
   "source": [
    "cursor.execute(\"\"\"\n",
    "               SELECT User_Brand, SUM(User_Count)AS Total_Users\n",
    "               FROM Aggregate_User\n",
    "               GROUP BY User_Brand\n",
    "               ORDER BY Total_Users DESC\n",
    "               ;\n",
    "\"\"\")"
   ]
  },
  {
   "cell_type": "code",
   "execution_count": null,
   "id": "4411c18b",
   "metadata": {},
   "outputs": [],
   "source": [
    "2.DEVICE BRAND USAGE BY STATE"
   ]
  },
  {
   "cell_type": "code",
   "execution_count": 12,
   "id": "5c9ff4b7",
   "metadata": {},
   "outputs": [
    {
     "data": {
      "text/plain": [
       "<sqlite3.Cursor at 0x2152826b1c0>"
      ]
     },
     "execution_count": 12,
     "metadata": {},
     "output_type": "execute_result"
    }
   ],
   "source": [
    "cursor.execute(\"\"\"\n",
    "               SELECT State, User_Brand, SUM(User_Count)AS Total_Users\n",
    "               FROM Aggregate_User\n",
    "               GROUP BY State, User_Brand\n",
    "               ORDER BY State, Total_Users DESC\n",
    "               ;\n",
    "\"\"\")\n",
    "\n"
   ]
  },
  {
   "cell_type": "code",
   "execution_count": null,
   "id": "2a468034",
   "metadata": {},
   "outputs": [],
   "source": [
    "3.YEARLY TRENDS BY DEVICE BRAND"
   ]
  },
  {
   "cell_type": "code",
   "execution_count": 25,
   "id": "7b244e7b",
   "metadata": {},
   "outputs": [
    {
     "data": {
      "text/plain": [
       "<sqlite3.Cursor at 0x2ced0e29c40>"
      ]
     },
     "execution_count": 25,
     "metadata": {},
     "output_type": "execute_result"
    }
   ],
   "source": [
    "cursor.execute(\"\"\"\n",
    "               SELECT User_Brand,Year, SUM(User_Count)AS Total_Users\n",
    "               FROM Aggregate_User\n",
    "               GROUP BY  User_Brand ,Year\n",
    "               ORDER BY  User_Brand ,Year\n",
    "               ;\n",
    "\"\"\")"
   ]
  },
  {
   "cell_type": "code",
   "execution_count": null,
   "id": "a0d815a2",
   "metadata": {},
   "outputs": [],
   "source": [
    "4.QUARTERLY GROWTH BY DEVICE BRAND"
   ]
  },
  {
   "cell_type": "code",
   "execution_count": 26,
   "id": "af5c2d1a",
   "metadata": {},
   "outputs": [
    {
     "data": {
      "text/plain": [
       "<sqlite3.Cursor at 0x2ced0e29c40>"
      ]
     },
     "execution_count": 26,
     "metadata": {},
     "output_type": "execute_result"
    }
   ],
   "source": [
    "cursor.execute(\"\"\"\n",
    "               SELECT User_Brand,Year,Quater, SUM(User_Count)AS Total_Users\n",
    "               FROM Aggregate_User\n",
    "               GROUP BY  User_Brand ,Year,Quater\n",
    "               ORDER BY  User_Brand ,Year,Quater\n",
    "               ;\n",
    "\"\"\")"
   ]
  },
  {
   "cell_type": "code",
   "execution_count": null,
   "id": "0b349a48",
   "metadata": {},
   "outputs": [],
   "source": []
  },
  {
   "cell_type": "code",
   "execution_count": 4,
   "id": "7bc8ff96",
   "metadata": {},
   "outputs": [
    {
     "name": "stdout",
     "output_type": "stream",
     "text": [
      "['Andaman & Nicobar' 'Andhra Pradesh' 'Arunachal Pradesh' 'Assam' 'Bihar'\n",
      " 'Chandigarh' 'Chhattisgarh' 'Dadra & Nagar Haveli & Daman & Diu' 'Delhi'\n",
      " 'Goa' 'Gujarat' 'Haryana' 'Himachal Pradesh' 'Jammu & Kashmir'\n",
      " 'Jharkhand' 'Karnataka' 'Kerala' 'Ladakh' 'Lakshadweep' 'Madhya Pradesh'\n",
      " 'Maharashtra' 'Manipur' 'Meghalaya' 'Mizoram' 'Nagaland' 'Odisha'\n",
      " 'Puducherry' 'Punjab' 'Rajasthan' 'Sikkim' 'Tamil Nadu' 'Telangana'\n",
      " 'Tripura' 'Uttar Pradesh' 'Uttarakhand' 'West Bengal']\n"
     ]
    }
   ],
   "source": [
    "print(data_frame['State'].unique())"
   ]
  },
  {
   "cell_type": "code",
   "execution_count": 4,
   "id": "51e76110",
   "metadata": {},
   "outputs": [
    {
     "data": {
      "text/plain": [
       "682"
      ]
     },
     "execution_count": 4,
     "metadata": {},
     "output_type": "execute_result"
    }
   ],
   "source": [
    "#Aggregate/Insurance\n",
    "Agg_Insu=\"E:/PhonePe/pulse-master/data/aggregated/insurance/country/india/state/\"\n",
    "ag_insu_st=os.listdir(Agg_Insu)\n",
    "\n",
    "\n",
    "Agg_Insu_Col={\"State\":[],\"Year\":[],\"Quater\":[],\"Transaction_Name\":[],\"Insurance_Count\":[],\"Insurance_Amount\":[]}\n",
    "for t in ag_insu_st:\n",
    "    ag_I_s=Agg_Insu+t+\"/\"\n",
    "    ag_I_yr=os.listdir(ag_I_s)\n",
    "    for r in ag_I_yr:\n",
    "        yr_pa=ag_I_s+r+\"/\"\n",
    "        ag_I_line=os.listdir(yr_pa)\n",
    "        for lin in ag_I_line:\n",
    "            li_pa=yr_pa+lin\n",
    "            note=open(li_pa,'r')\n",
    "            stuf=json.load(note)\n",
    "            for point in stuf [\"data\"][\"transactionData\"]:\n",
    "                Name=point[\"name\"]\n",
    "                Count=point[\"paymentInstruments\"][0][\"count\"]\n",
    "                Amount=point[\"paymentInstruments\"][0]['amount']\n",
    "                Agg_Insu_Col[\"Transaction_Name\"].append(Name)\n",
    "                Agg_Insu_Col[\"Insurance_Count\"].append(Count)\n",
    "                Agg_Insu_Col[\"Insurance_Amount\"].append(Amount)\n",
    "                Agg_Insu_Col[\"State\"].append(t)\n",
    "                Agg_Insu_Col[\"Year\"].append(r)\n",
    "                Agg_Insu_Col[\"Quater\"].append(int(lin.strip(\".json\")))\n",
    "\n",
    "dAtaFrame=pd.DataFrame(Agg_Insu_Col)\n",
    "dAtaFrame['State'] = dAtaFrame['State'].str.replace('andaman-&-nicobar-islands', 'ANDAMAN & NICOBAR')\n",
    "dAtaFrame['State'] = dAtaFrame['State'].str.replace('-',' ')\n",
    "dAtaFrame['State'] = dAtaFrame['State'].str.replace('dadra-&-nagar-haveli-&-daman-&-diu','dadra and nagar haveli and daman and diu')\n",
    "dAtaFrame['State'] = dAtaFrame['State'].str.title()\n",
    "\n",
    "dAtaFrame.to_csv(\"E:/PhonePe/Aggregate_Insurance.csv\",index=False)\n",
    "\n",
    "conn=sqlite3.connect(\"PhonePe.db\")\n",
    "\n",
    "three= pd.read_csv(\"E:/PhonePe/Aggregate_Insurance.csv\")\n",
    "\n",
    "three.to_sql(\"Aggregate_Insurance\",conn,if_exists=\"replace\",index=False)\n",
    "\n",
    "\n"
   ]
  },
  {
   "cell_type": "code",
   "execution_count": 5,
   "id": "8116312c",
   "metadata": {},
   "outputs": [
    {
     "data": {
      "text/plain": [
       "20604"
      ]
     },
     "execution_count": 5,
     "metadata": {},
     "output_type": "execute_result"
    }
   ],
   "source": [
    "#Map/Transaction\n",
    "where=\"E:/PhonePe/pulse-master/data/map/transaction/hover/country/india/state/\"\n",
    "where_state=os.listdir(where)\n",
    "\n",
    "Map_tranasaction={\"State\":[],\"Year\":[],\"Quater\":[],\"District\":[],\"Transaction_Count\":[],\"Transaction_Amount\":[]}\n",
    "\n",
    "for state in where_state:\n",
    "    loc1=where+state+\"/\"\n",
    "    year=os.listdir(loc1)\n",
    "    for num in year:\n",
    "        loc2=loc1+num+\"/\"\n",
    "        MT_File=os.listdir(loc2)\n",
    "        for _file in MT_File:\n",
    "            loc3=loc2+_file\n",
    "            info=open(loc3,'r')\n",
    "            info_doc=json.load(info)\n",
    "            for li_ne in info_doc[\"data\"][\"hoverDataList\"]:\n",
    "                Name=li_ne[\"name\"]\n",
    "                Count=li_ne[\"metric\"][0][\"count\"]\n",
    "                Amount=li_ne[\"metric\"][0][\"amount\"]\n",
    "                Map_tranasaction[\"District\"].append(Name)\n",
    "                Map_tranasaction[\"Transaction_Count\"].append(Count)\n",
    "                Map_tranasaction[\"Transaction_Amount\"].append(Amount)\n",
    "                Map_tranasaction[\"State\"].append(state)\n",
    "                Map_tranasaction[\"Year\"].append(num)\n",
    "                Map_tranasaction[\"Quater\"].append(int(_file.strip(\".json\")))\n",
    "\n",
    "MT_dataframe=pd.DataFrame(Map_tranasaction)\n",
    "\n",
    "MT_dataframe['State'] = MT_dataframe['State'].str.replace('andaman-&-nicobar-islands', 'ANDAMAN & NICOBAR')\n",
    "MT_dataframe['State'] = MT_dataframe['State'].str.replace('-',' ')\n",
    "MT_dataframe['State'] = MT_dataframe['State'].str.replace('dadra-&-nagar-haveli-&-daman-&-diu','dadra and nagar haveli and daman and diu')\n",
    "MT_dataframe['State'] = MT_dataframe['State'].str.title()                \n",
    "\n",
    "\n",
    "MT_dataframe.to_csv(\"E:/PhonePe/Map_Transaction.csv\",index=False)\n",
    "\n",
    "conn=sqlite3.connect(\"PhonePe.db\")\n",
    "cursor = conn.cursor()\n",
    "\n",
    "four= pd.read_csv(\"E:/PhonePe/Map_Transaction.csv\")\n",
    "\n",
    "four.to_sql(\"Map_Transaction\",conn,if_exists=\"replace\",index=False)\n",
    "\n"
   ]
  },
  {
   "cell_type": "code",
   "execution_count": 6,
   "id": "860858fd",
   "metadata": {},
   "outputs": [
    {
     "data": {
      "text/plain": [
       "20608"
      ]
     },
     "execution_count": 6,
     "metadata": {},
     "output_type": "execute_result"
    }
   ],
   "source": [
    "#Map/User\n",
    "map_user_path=\"E:/PhonePe/pulse-master/data/map/user/hover/country/india/state/\"\n",
    "state_path=os.listdir(map_user_path)\n",
    "\n",
    "Map_User={\"State\":[],\"Year\":[],\"Quater\":[],\"District\":[],\"Registerd_Users\":[],\"App_Count\":[]}\n",
    "\n",
    "for _path in state_path:\n",
    "    spot1=map_user_path+_path+\"/\"\n",
    "    opn1=os.listdir(spot1)\n",
    "    for user_year in opn1:\n",
    "        spot2=spot1+user_year+\"/\"\n",
    "        opn2=os.listdir(spot2)\n",
    "        for user_line in opn2:\n",
    "            spot3=spot2+user_line\n",
    "            user_info=open(spot3,'r')\n",
    "            user_data=json.load(user_info)\n",
    "            a=user_data[\"data\"][\"hoverData\"]\n",
    "            for i,j in a.items():\n",
    "                district= i\n",
    "                reg_users=j[\"registeredUsers\"]\n",
    "                app_opens=j[\"appOpens\"]\n",
    "                Map_User[\"District\"].append(district)\n",
    "                Map_User[\"Registerd_Users\"].append(reg_users)\n",
    "                Map_User[\"App_Count\"].append(app_opens)\n",
    "                Map_User[\"State\"].append(_path)\n",
    "                Map_User[\"Year\"].append(user_year)\n",
    "                Map_User[\"Quater\"].append(int(user_line.strip(\".json\")))\n",
    "\n",
    "MapUserdataframe=pd.DataFrame(Map_User)\n",
    "\n",
    "MapUserdataframe['State'] = MapUserdataframe['State'].str.replace('andaman-&-nicobar-islands', 'ANDAMAN & NICOBAR')\n",
    "MapUserdataframe['State'] = MapUserdataframe['State'].str.replace('-',' ')\n",
    "MapUserdataframe['State'] = MapUserdataframe['State'].str.replace('dadra-&-nagar-haveli-&-daman-&-diu','dadra and nagar haveli and daman and diu')\n",
    "MapUserdataframe['State'] = MapUserdataframe['State'].str.title()                \n",
    "\n",
    "\n",
    "MapUserdataframe.to_csv(\"E:/PhonePe/Map_User.csv\",index=False)\n",
    "\n",
    "conn=sqlite3.connect(\"PhonePe.db\")\n",
    "cursor = conn.cursor()\n",
    "\n",
    "five= pd.read_csv(\"E:/PhonePe/Map_User.csv\")\n",
    "\n",
    "five.to_sql(\"Map_User\",conn,if_exists=\"replace\",index=False)\n"
   ]
  },
  {
   "cell_type": "code",
   "execution_count": 25,
   "id": "94a4a3c1",
   "metadata": {},
   "outputs": [
    {
     "name": "stdout",
     "output_type": "stream",
     "text": [
      "['State', 'Year', 'Quater', 'District', 'Registerd_Users', 'App_Count']\n"
     ]
    }
   ],
   "source": [
    "df = pd.read_csv(\"E:/PhonePe/Map_User.csv\")\n",
    "print(df.columns.tolist())\n"
   ]
  },
  {
   "cell_type": "code",
   "execution_count": 27,
   "id": "35124404",
   "metadata": {},
   "outputs": [
    {
     "name": "stdout",
     "output_type": "stream",
     "text": [
      "Database path: e:\\PhonePe\\pulse-master\\PhonePe.db\n"
     ]
    }
   ],
   "source": [
    "import os\n",
    "print(\"Database path:\", os.path.abspath(\"PhonePe.db\"))\n"
   ]
  },
  {
   "cell_type": "code",
   "execution_count": 26,
   "id": "d56824ae",
   "metadata": {},
   "outputs": [
    {
     "name": "stdout",
     "output_type": "stream",
     "text": [
      "['State', 'Year', 'Quater', 'District', 'Registerd_Users', 'App_Count']\n"
     ]
    }
   ],
   "source": [
    "df_sql = pd.read_sql_query(\"SELECT * FROM Map_User LIMIT 5;\", conn)\n",
    "print(df_sql.columns.tolist())\n"
   ]
  },
  {
   "cell_type": "code",
   "execution_count": 22,
   "id": "db10da9b",
   "metadata": {},
   "outputs": [
    {
     "name": "stdout",
     "output_type": "stream",
     "text": [
      "('Maharashtra', 49616423987)\n",
      "('Rajasthan', 48507630334)\n",
      "('Madhya Pradesh', 39708500796)\n",
      "('Karnataka', 38344879267)\n",
      "('Uttar Pradesh', 33236833684)\n"
     ]
    }
   ],
   "source": [
    "query = 'SELECT State, SUM(\"App_Count\") AS Total_App_Counts FROM Map_User GROUP BY State ORDER BY Total_App_Counts DESC;'\n",
    "cursor.execute(query)\n",
    "rows = cursor.fetchall()\n",
    "for row in rows[:5]:\n",
    "    print(row)"
   ]
  },
  {
   "cell_type": "code",
   "execution_count": 18,
   "id": "757c3dd2",
   "metadata": {},
   "outputs": [
    {
     "name": "stdout",
     "output_type": "stream",
     "text": [
      "Column names: ['State', 'Year', 'Quater', 'District', 'Registerd_Users', 'App_Count']\n",
      "('Andaman & Nicobar', 2018, 1, 'north and middle andaman district', 632, 0)\n",
      "('Andaman & Nicobar', 2018, 1, 'south andaman district', 5846, 0)\n",
      "('Andaman & Nicobar', 2018, 1, 'nicobars district', 262, 0)\n",
      "('Andaman & Nicobar', 2018, 2, 'north and middle andaman district', 911, 0)\n",
      "('Andaman & Nicobar', 2018, 2, 'south andaman district', 8143, 0)\n"
     ]
    }
   ],
   "source": [
    "cursor.execute('SELECT * FROM \"Map_User\"')\n",
    "rows = cursor.fetchall()\n",
    "\n",
    "# To view column names\n",
    "column_names = [description[0] for description in cursor.description]\n",
    "print(\"Column names:\", column_names)\n",
    "\n",
    "# To preview a few rows\n",
    "for row in rows[:5]:\n",
    "    print(row)"
   ]
  },
  {
   "cell_type": "code",
   "execution_count": null,
   "id": "d555fb07",
   "metadata": {},
   "outputs": [],
   "source": [
    "1.TOTAL REGISTERED USERS BY STATE"
   ]
  },
  {
   "cell_type": "code",
   "execution_count": 8,
   "id": "8dcc2e90",
   "metadata": {},
   "outputs": [
    {
     "data": {
      "text/plain": [
       "<sqlite3.Cursor at 0x1911a27f440>"
      ]
     },
     "execution_count": 8,
     "metadata": {},
     "output_type": "execute_result"
    }
   ],
   "source": [
    "cursor.execute(\"\"\"\n",
    "               SELECT State, SUM(Registerd_Users)AS Total_Registered\n",
    "               FROM Map_User\n",
    "               GROUP BY  State\n",
    "               ORDER BY  Total_Registered DESC\n",
    "               ;\n",
    "\"\"\")"
   ]
  },
  {
   "cell_type": "code",
   "execution_count": null,
   "id": "5cf56af3",
   "metadata": {},
   "outputs": [],
   "source": [
    "2.TOTAL APP OPENS BY STATE"
   ]
  },
  {
   "cell_type": "code",
   "execution_count": 16,
   "id": "511015cf",
   "metadata": {},
   "outputs": [
    {
     "data": {
      "text/plain": [
       "<sqlite3.Cursor at 0x2152826b1c0>"
      ]
     },
     "execution_count": 16,
     "metadata": {},
     "output_type": "execute_result"
    }
   ],
   "source": [
    "cursor.execute(\"\"\"\n",
    "               SELECT State, SUM(App_Count)AS Total_App_Counts\n",
    "               FROM Map_User\n",
    "               GROUP BY  State\n",
    "               ORDER BY  Total_App_Counts DESC\n",
    "               ;\n",
    "\"\"\")"
   ]
  },
  {
   "cell_type": "code",
   "execution_count": null,
   "id": "b1d004db",
   "metadata": {},
   "outputs": [],
   "source": [
    "3.DISTRICT LEVEL ENGAGEMENT"
   ]
  },
  {
   "cell_type": "code",
   "execution_count": 10,
   "metadata": {},
   "outputs": [
    {
     "data": {
      "text/plain": [
       "<sqlite3.Cursor at 0x1911a27f440>"
      ]
     },
     "execution_count": 10,
     "metadata": {},
     "output_type": "execute_result"
    }
   ],
   "source": [
    "cursor.execute(\"\"\"\n",
    "               SELECT State,District, SUM(Registerd_Users)AS Total_Registered,SUM(App_Count)AS Total_App_Counts\n",
    "               FROM Map_User\n",
    "               GROUP BY  State,District\n",
    "               ORDER BY  State, Total_App_Counts DESC\n",
    "               ;\n",
    "\"\"\")"
   ]
  },
  {
   "cell_type": "code",
   "execution_count": null,
   "id": "6df7f621",
   "metadata": {},
   "outputs": [],
   "source": [
    "4.ENGAGEMENT RATIO BY DISTRICT"
   ]
  },
  {
   "cell_type": "code",
   "execution_count": 11,
   "id": "73a5f880",
   "metadata": {},
   "outputs": [
    {
     "data": {
      "text/plain": [
       "<sqlite3.Cursor at 0x1911a27f440>"
      ]
     },
     "execution_count": 11,
     "metadata": {},
     "output_type": "execute_result"
    }
   ],
   "source": [
    "cursor.execute(\"\"\"\n",
    "               SELECT State,District, SUM(App_Count)*1.0 / SUM(Registerd_Users)AS Engagement_Rate\n",
    "               FROM Map_User\n",
    "               GROUP BY  State,District\n",
    "               ORDER BY  Engagement_Rate DESC\n",
    "               ;\n",
    "\"\"\")"
   ]
  },
  {
   "cell_type": "code",
   "execution_count": null,
   "id": "88308aba",
   "metadata": {},
   "outputs": [],
   "source": [
    "5.QUARTERLY GROWTH IN APP OPENS"
   ]
  },
  {
   "cell_type": "code",
   "execution_count": 14,
   "id": "0059a866",
   "metadata": {},
   "outputs": [
    {
     "data": {
      "text/plain": [
       "<sqlite3.Cursor at 0x2152826b1c0>"
      ]
     },
     "execution_count": 14,
     "metadata": {},
     "output_type": "execute_result"
    }
   ],
   "source": [
    "cursor.execute(\"\"\"\n",
    "               SELECT State,Year,Quater, SUM(App_Count)AS Total_App_Counts\n",
    "               FROM Map_User\n",
    "               GROUP BY  State,Year,Quater\n",
    "               ORDER BY  State,Year,Quater\n",
    "               ;\n",
    "\"\"\")"
   ]
  },
  {
   "cell_type": "code",
   "execution_count": null,
   "id": "b5be36d6",
   "metadata": {},
   "outputs": [],
   "source": []
  },
  {
   "cell_type": "code",
   "execution_count": 7,
   "id": "e262f406",
   "metadata": {},
   "outputs": [
    {
     "data": {
      "text/plain": [
       "13876"
      ]
     },
     "execution_count": 7,
     "metadata": {},
     "output_type": "execute_result"
    }
   ],
   "source": [
    "#Map/Insurance\n",
    "MapInsurance_Path=\"E:/PhonePe/pulse-master/data/map/insurance/hover/country/india/state/\"\n",
    "Map_Insurance_Path=os.listdir(MapInsurance_Path)\n",
    "\n",
    "Map_Insurance={\"State\":[],\"Year\":[],\"Quater\":[],\"District\":[],\"Insurance_Count\":[],\"Insurance_Amount\":[]}\n",
    "\n",
    "for Insu_state in Map_Insurance_Path:\n",
    "    place1=MapInsurance_Path+Insu_state+\"/\"\n",
    "    Mp_state=os.listdir(place1)\n",
    "    for Insu_yr in Mp_state:\n",
    "        place2=place1+Insu_yr+\"/\"\n",
    "        Mp_yr=os.listdir(place2)\n",
    "        for Insu_file in Mp_yr:\n",
    "            place3=place2+Insu_file\n",
    "            Map_Insu_file=open(place3,'r')\n",
    "            Map_Insurance_File=json.load(Map_Insu_file)\n",
    "            for MI_file in Map_Insurance_File[\"data\"][\"hoverDataList\"]:\n",
    "                dist_name=MI_file[\"name\"]\n",
    "                co_unt=MI_file[\"metric\"][0][\"count\"]\n",
    "                amt=MI_file [\"metric\"][0][\"amount\"]\n",
    "                Map_Insurance[\"District\"].append(dist_name)\n",
    "                Map_Insurance[\"Insurance_Count\"].append(co_unt)\n",
    "                Map_Insurance[\"Insurance_Amount\"].append(amt)\n",
    "                Map_Insurance[\"State\"].append(Insu_state)\n",
    "                Map_Insurance[\"Year\"].append(Insu_yr)\n",
    "                Map_Insurance[\"Quater\"].append(int(Insu_file.strip(\".json\")))\n",
    "\n",
    "Map_Insurance_Data=pd.DataFrame(Map_Insurance)\n",
    "\n",
    "Map_Insurance_Data['State'] = Map_Insurance_Data['State'].str.replace('andaman-&-nicobar-islands', 'ANDAMAN & NICOBAR')\n",
    "Map_Insurance_Data['State'] = Map_Insurance_Data['State'].str.replace('-',' ')\n",
    "Map_Insurance_Data['State'] = Map_Insurance_Data['State'].str.replace('dadra-&-nagar-haveli-&-daman-&-diu','dadra and nagar haveli and daman and diu')\n",
    "Map_Insurance_Data['State'] = Map_Insurance_Data['State'].str.title()   \n",
    "               \n",
    "\n",
    "Map_Insurance_Data.to_csv(\"E:/PhonePe/Map_Insurance.csv\",index=False)\n",
    "\n",
    "conn=sqlite3.connect(\"PhonePe.db\")\n",
    "\n",
    "six= pd.read_csv(\"E:/PhonePe/Map_Insurance.csv\")\n",
    "\n",
    "six.to_sql(\"Map_Insurance\",conn,if_exists=\"replace\",index=False)\n",
    "\n",
    "\n"
   ]
  },
  {
   "cell_type": "code",
   "execution_count": 8,
   "id": "1ee98a07",
   "metadata": {},
   "outputs": [
    {
     "data": {
      "text/plain": [
       "9999"
      ]
     },
     "execution_count": 8,
     "metadata": {},
     "output_type": "execute_result"
    }
   ],
   "source": [
    "#Top/Transaction\n",
    "Top_Transaction_Path=\"E:/PhonePe/pulse-master/data/top/transaction/country/india/state/\"\n",
    "opn_transaction_path=os.listdir(Top_Transaction_Path)\n",
    "\n",
    "Top_Transaction={\"State\":[],\"Year\":[],\"Quater\":[],\"Pincode\":[],\"Transaction_Count\":[],\"Transaction_Amount\":[]}\n",
    "\n",
    "for Top_transaction_state in opn_transaction_path:\n",
    "    route1=Top_Transaction_Path+Top_transaction_state+\"/\"\n",
    "    opn_transaction_path1=os.listdir(route1)\n",
    "    for Top_transaction_year in opn_transaction_path1:\n",
    "        route2=route1+Top_transaction_year+\"/\"\n",
    "        opn_transaction_path_2=os.listdir(route2)\n",
    "        for Top_transaction_file in opn_transaction_path_2:\n",
    "            route3=route2+Top_transaction_file\n",
    "            transaction_file=open(route3,'r')\n",
    "            transaction_data=json.load(transaction_file)\n",
    "            for TT_info in transaction_data[\"data\"][\"pincodes\"]:\n",
    "                code=TT_info[\"entityName\"]\n",
    "                code_count=TT_info[\"metric\"][\"count\"]\n",
    "                code_amount=TT_info[\"metric\"][\"amount\"]\n",
    "                Top_Transaction[\"State\"].append(Top_transaction_state)\n",
    "                Top_Transaction[\"Year\"].append(Top_transaction_year)\n",
    "                Top_Transaction[\"Quater\"].append(int(Top_transaction_file.strip(\".json\")))\n",
    "                Top_Transaction[\"Pincode\"].append(code)\n",
    "                Top_Transaction[\"Transaction_Count\"].append(code_count)\n",
    "                Top_Transaction[\"Transaction_Amount\"].append(code_amount)          \n",
    "          \n",
    "\n",
    "\n",
    "Top_Transaction_Dataframe=pd.DataFrame(Top_Transaction)\n",
    "\n",
    "Top_Transaction_Dataframe['State'] = Top_Transaction_Dataframe['State'].str.replace('andaman-&-nicobar-islands', 'ANDAMAN & NICOBAR')\n",
    "Top_Transaction_Dataframe['State'] = Top_Transaction_Dataframe['State'].str.replace('-',' ')\n",
    "Top_Transaction_Dataframe['State'] = Top_Transaction_Dataframe['State'].str.replace('dadra-&-nagar-haveli-&-daman-&-diu','dadra and nagar haveli and daman and diu')\n",
    "Top_Transaction_Dataframe['State'] = Top_Transaction_Dataframe['State'].str.title() \n",
    "\n",
    "Top_Transaction_Dataframe.to_csv(\"E:/PhonePe/Top_Transaction.csv\",index=False)\n",
    "\n",
    "conn=sqlite3.connect(\"PhonePe.db\")\n",
    "cursor=conn.cursor()\n",
    "\n",
    "seven= pd.read_csv(\"E:/PhonePe/Top_Transaction.csv\")\n",
    "\n",
    "seven.to_sql(\"Top_Transaction\",conn,if_exists=\"replace\",index=False)\n",
    "\n"
   ]
  },
  {
   "cell_type": "code",
   "execution_count": 9,
   "id": "e729d7f9",
   "metadata": {},
   "outputs": [
    {
     "data": {
      "text/plain": [
       "10000"
      ]
     },
     "execution_count": 9,
     "metadata": {},
     "output_type": "execute_result"
    }
   ],
   "source": [
    "#Top/User\n",
    "Top_User_Path=\"E:/PhonePe/pulse-master/data/top/user/country/india/state/\"\n",
    "op_top_user=os.listdir(Top_User_Path)\n",
    "\n",
    "Top_User={\"State\":[],\"Year\":[],\"Quater\":[],\"Pincode\":[],\"Registred_Users\":[]}\n",
    "\n",
    "for top_user_state in op_top_user:\n",
    "    user_path1=Top_User_Path+top_user_state+\"/\"\n",
    "    op_user_state=os.listdir(user_path1)\n",
    "    for top_user_year in op_user_state:\n",
    "        user_path2=user_path1+top_user_year+\"/\"\n",
    "        op_user_year=os.listdir(user_path2)\n",
    "        for top_user_file in op_user_year:\n",
    "            user_path3=user_path2+top_user_file\n",
    "            TU_data=open(user_path3,'r')\n",
    "            T_U_data=json.load(TU_data)\n",
    "            for user_data in T_U_data[\"data\"][\"pincodes\"]:\n",
    "                Num=user_data[\"name\"]\n",
    "                regist_users=user_data[\"registeredUsers\"]\n",
    "                Top_User[\"State\"].append(top_user_state)\n",
    "                Top_User[\"Year\"].append(top_user_year)\n",
    "                Top_User[\"Quater\"].append(int(top_user_file.strip(\".json\")))\n",
    "                Top_User[\"Pincode\"].append(Num)\n",
    "                Top_User[\"Registred_Users\"].append(regist_users)\n",
    "               \n",
    "\n",
    "Top_Users_Dataframe=pd.DataFrame(Top_User)\n",
    "Top_Users_Dataframe['State'] = Top_Users_Dataframe['State'].str.replace('andaman-&-nicobar-islands', 'ANDAMAN & NICOBAR')\n",
    "Top_Users_Dataframe['State'] = Top_Users_Dataframe['State'].str.replace('-',' ')\n",
    "Top_Users_Dataframe['State'] = Top_Users_Dataframe['State'].str.replace('dadra-&-nagar-haveli-&-daman-&-diu','dadra and nagar haveli and daman and diu')\n",
    "Top_Users_Dataframe['State'] = Top_Users_Dataframe['State'].str.title() \n",
    "\n",
    "Top_Users_Dataframe.to_csv(\"E:/PhonePe/Top_User.csv\",index=False)\n",
    "\n",
    "conn=sqlite3.connect(\"PhonePe.db\")\n",
    "\n",
    "eight= pd.read_csv(\"E:/PhonePe/Top_User.csv\")\n",
    "\n",
    "eight.to_sql(\"Top_User\",conn,if_exists=\"replace\",index=False)\n"
   ]
  },
  {
   "cell_type": "code",
   "execution_count": 10,
   "id": "9c83067b",
   "metadata": {},
   "outputs": [
    {
     "data": {
      "text/plain": [
       "6668"
      ]
     },
     "execution_count": 10,
     "metadata": {},
     "output_type": "execute_result"
    }
   ],
   "source": [
    "#Top/Insurance\n",
    "Top_Insurance_Path=\"E:/PhonePe/pulse-master/data/top/insurance/country/india/state/\"\n",
    "op_top_insurance=os.listdir(Top_Insurance_Path)\n",
    "\n",
    "Top_Insurance={\"State\":[],\"Year\":[],\"Quater\":[],\"Pincode\":[],\"Insurance_Count\":[],\"Insurance_Amount\":[]}\n",
    "for top_insu_state in op_top_insurance:\n",
    "    top_insu_path1=Top_Insurance_Path+top_insu_state+\"/\"\n",
    "    op_insu_path1=os.listdir(top_insu_path1)\n",
    "    for top_insu_year in op_insu_path1:\n",
    "        top_insu_path2=top_insu_path1+top_insu_year+\"/\"\n",
    "        op_insu_path2=os.listdir(top_insu_path2)\n",
    "        for top_insu_data in op_insu_path2:\n",
    "            top_insu_path3=top_insu_path2+top_insu_data\n",
    "            op_insu_filepath=open(top_insu_path3,'r')\n",
    "            T_I_data=json.load(op_insu_filepath)\n",
    "            for Insurance_data in T_I_data[\"data\"][\"pincodes\"]:\n",
    "                name=Insurance_data[\"entityName\"]\n",
    "                p_count=Insurance_data[\"metric\"][\"count\"]\n",
    "                p_amount=Insurance_data[\"metric\"][\"amount\"]\n",
    "                Top_Insurance[\"State\"].append(top_insu_state)\n",
    "                Top_Insurance[\"Year\"].append(top_insu_year)\n",
    "                Top_Insurance[\"Quater\"].append(int(top_insu_data.strip(\".json\")))\n",
    "                Top_Insurance[\"Pincode\"].append(name)\n",
    "                Top_Insurance[\"Insurance_Count\"].append(p_count)\n",
    "                Top_Insurance[\"Insurance_Amount\"].append(p_amount)\n",
    "\n",
    "\n",
    "Top_Insurance_Dataframe=pd.DataFrame(Top_Insurance)\n",
    "Top_Insurance_Dataframe['State'] = Top_Insurance_Dataframe['State'].str.replace('andaman-&-nicobar-islands', 'ANDAMAN & NICOBAR')\n",
    "Top_Insurance_Dataframe['State'] = Top_Insurance_Dataframe['State'].str.replace('-',' ')\n",
    "Top_Insurance_Dataframe['State'] = Top_Insurance_Dataframe['State'].str.replace('dadra-&-nagar-haveli-&-daman-&-diu','dadra and nagar haveli and daman and diu')\n",
    "Top_Insurance_Dataframe['State'] = Top_Insurance_Dataframe['State'].str.title() \n",
    "\n",
    "Top_Insurance_Dataframe.to_csv(\"E:/PhonePe/Top_Insurance.csv\",index=False)\n",
    "\n",
    "conn=sqlite3.connect(\"PhonePe.db\")\n",
    "\n",
    "nine= pd.read_csv(\"E:/PhonePe/Top_Insurance.csv\")\n",
    "\n",
    "nine.to_sql(\"Top_Insurance\",conn,if_exists=\"replace\",index=False)\n",
    "                \n"
   ]
  },
  {
   "cell_type": "code",
   "execution_count": 17,
   "id": "49a1e880",
   "metadata": {},
   "outputs": [
    {
     "data": {
      "text/plain": [
       "<sqlite3.Cursor at 0x24b603f78c0>"
      ]
     },
     "execution_count": 17,
     "metadata": {},
     "output_type": "execute_result"
    }
   ],
   "source": [
    "# Transaction Analysis for Market Expansion\n",
    "\n",
    "#1.Total Transaction Amount by State\n",
    "cursor.execute(\"\"\"\n",
    "               SELECT State, SUM(Transaction_Amount)AS Total_Transaction_Amount\n",
    "               FROM Aggregate_Transaction\n",
    "               GROUP BY State \n",
    "               ORDER BY State, Total_Transaction_Amount DESC\n",
    "               ;\n",
    "\"\"\")\n",
    "#2.Yearly Growth by State\n",
    "cursor.execute(\"\"\"\n",
    "               SELECT State, Year, SUM(Transaction_Amount)AS Total_Transaction_Amount\n",
    "               FROM Aggregate_Transaction\n",
    "               GROUP BY State, Year\n",
    "               ORDER BY State, Year\n",
    "               ;\n",
    "\"\"\")\n",
    "#3.Quarterly Trends by Transaction Type\n",
    "cursor.execute(\"\"\"\n",
    "               SELECT State,Transaction_Name,Year,Quater, SUM(Transaction_Amount)AS Total_Transaction_Amount\n",
    "               FROM Aggregate_Transaction\n",
    "               GROUP BY State, Transaction_Name, Year, Quater\n",
    "               ORDER BY State, Transaction_Name, Year, Quater\n",
    "               ;\n",
    "\"\"\")\n",
    "#4.Top Pincodes by Transaction Amount\n",
    "cursor.execute(\"\"\"\n",
    "               SELECT Pincode,SUM(Transaction_Amount)AS Total_Amount\n",
    "               FROM Top_Transaction\n",
    "               GROUP BY Pincode\n",
    "               ORDER BY Total_Amount DESC\n",
    "               ;\n",
    "\"\"\")\n",
    "#5. State-Wise Pincode Performance\n",
    "cursor.execute(\"\"\"\n",
    "               SELECT State,Pincode,SUM(Transaction_Amount)AS Total_Amount\n",
    "               FROM Top_Transaction\n",
    "               GROUP BY State,Pincode\n",
    "               ORDER BY State,Total_Amount DESC\n",
    "               ;\n",
    "\"\"\")\n",
    "\n"
   ]
  },
  {
   "cell_type": "code",
   "execution_count": 11,
   "id": "2e3db0bb",
   "metadata": {},
   "outputs": [
    {
     "name": "stdout",
     "output_type": "stream",
     "text": [
      "e:\\PhonePe\\your_database_name.db\n"
     ]
    }
   ],
   "source": [
    "import os\n",
    "print(os.path.abspath('your_database_name.db'))\n"
   ]
  },
  {
   "cell_type": "code",
   "execution_count": null,
   "id": "83a17df2",
   "metadata": {},
   "outputs": [],
   "source": [
    "# Transaction Analysis Across States and Districts\n",
    "\n",
    "#1. Top States byTransaction Amount\n",
    "cursor.execute(\"\"\"\n",
    "               SELECT State,SUM(Transaction_Amount)AS Total_Transaction_Amount\n",
    "               FROM Aggregate_Transaction\n",
    "               GROUP BY State\n",
    "               ORDER BY Total_Transaction_Amount DESC\n",
    "               ;\n",
    "\"\"\")\n",
    "#2. Top States by Transaction Volume\n",
    "cursor.execute(\"\"\"\n",
    "               SELECT State,SUM(Transaction_Count)AS Total_Transaction_Count\n",
    "               FROM Aggregate_Transaction\n",
    "               GROUP BY State\n",
    "               ORDER BY Total_Transaction_Count DESC\n",
    "               ;\n",
    "\"\"\")\n",
    "#3.Top Districts by Transaction Volume\n",
    "cursor.execute(\"\"\"\n",
    "               SELECT District AS District, SUM(Transaction_Amount)AS Total_Amount\n",
    "               FROM Map_Transaction\n",
    "               GROUP BY District\n",
    "               ORDER BY Total_Amount DESC\n",
    "               ;\n",
    "\"\"\")\n",
    "#4. Top Districts by Transaction Volume\n",
    "cursor.execute(\"\"\"\n",
    "               SELECT District AS District, SUM(Transaction_Count)AS Total_Count\n",
    "               FROM Map_Transaction\n",
    "               GROUP BY District\n",
    "               ORDER BY Total_Count DESC\n",
    "               ;\n",
    "\"\"\")\n",
    "#5. Top Pincodes by Transaction Amount\n",
    "cursor.execute(\"\"\"\n",
    "               SELECT Pincode, SUM(Transaction_Amount)AS Total_Amount\n",
    "               FROM Top_Transaction\n",
    "               GROUP BY Pincode\n",
    "               ORDER BY Total_Amount DESC\n",
    "               LIMIT 10\n",
    "               ;\n",
    "\"\"\")\n",
    "#6. Top Pincodes by Transaction Volume\n",
    "cursor.execute(\"\"\"\n",
    "               SELECT Pincode, SUM(Insurance_Count)AS Total_Count\n",
    "               FROM Top_Transaction\n",
    "               GROUP BY Pincode\n",
    "               ORDER BY Total_Count DESC\n",
    "               LIMIT 10\n",
    "               ;\n",
    "\"\"\")"
   ]
  },
  {
   "cell_type": "code",
   "execution_count": 1,
   "id": "bdbb428d",
   "metadata": {},
   "outputs": [
    {
     "name": "stdout",
     "output_type": "stream",
     "text": [
      "Collecting streamlit\n",
      "  Downloading streamlit-1.50.0-py3-none-any.whl.metadata (9.5 kB)\n",
      "Collecting altair!=5.4.0,!=5.4.1,<6,>=4.0 (from streamlit)\n",
      "  Downloading altair-5.5.0-py3-none-any.whl.metadata (11 kB)\n",
      "Collecting blinker<2,>=1.5.0 (from streamlit)\n",
      "  Downloading blinker-1.9.0-py3-none-any.whl.metadata (1.6 kB)\n",
      "Collecting cachetools<7,>=4.0 (from streamlit)\n",
      "  Downloading cachetools-6.2.0-py3-none-any.whl.metadata (5.4 kB)\n",
      "Collecting click<9,>=7.0 (from streamlit)\n",
      "  Downloading click-8.3.0-py3-none-any.whl.metadata (2.6 kB)\n",
      "Requirement already satisfied: numpy<3,>=1.23 in c:\\users\\gayat\\appdata\\local\\programs\\python\\python313\\lib\\site-packages (from streamlit) (2.3.3)\n",
      "Requirement already satisfied: packaging<26,>=20 in c:\\users\\gayat\\appdata\\roaming\\python\\python313\\site-packages (from streamlit) (25.0)\n",
      "Requirement already satisfied: pandas<3,>=1.4.0 in c:\\users\\gayat\\appdata\\local\\programs\\python\\python313\\lib\\site-packages (from streamlit) (2.3.2)\n",
      "Collecting pillow<12,>=7.1.0 (from streamlit)\n",
      "  Downloading pillow-11.3.0-cp313-cp313-win_amd64.whl.metadata (9.2 kB)\n",
      "Collecting protobuf<7,>=3.20 (from streamlit)\n",
      "  Downloading protobuf-6.32.1-cp310-abi3-win_amd64.whl.metadata (593 bytes)\n",
      "Collecting pyarrow>=7.0 (from streamlit)\n",
      "  Downloading pyarrow-21.0.0-cp313-cp313-win_amd64.whl.metadata (3.4 kB)\n",
      "Collecting requests<3,>=2.27 (from streamlit)\n",
      "  Downloading requests-2.32.5-py3-none-any.whl.metadata (4.9 kB)\n",
      "Collecting tenacity<10,>=8.1.0 (from streamlit)\n",
      "  Downloading tenacity-9.1.2-py3-none-any.whl.metadata (1.2 kB)\n",
      "Collecting toml<2,>=0.10.1 (from streamlit)\n",
      "  Downloading toml-0.10.2-py2.py3-none-any.whl.metadata (7.1 kB)\n",
      "Collecting typing-extensions<5,>=4.4.0 (from streamlit)\n",
      "  Downloading typing_extensions-4.15.0-py3-none-any.whl.metadata (3.3 kB)\n",
      "Collecting watchdog<7,>=2.1.5 (from streamlit)\n",
      "  Downloading watchdog-6.0.0-py3-none-win_amd64.whl.metadata (44 kB)\n",
      "Collecting gitpython!=3.1.19,<4,>=3.0.7 (from streamlit)\n",
      "  Downloading gitpython-3.1.45-py3-none-any.whl.metadata (13 kB)\n",
      "Collecting pydeck<1,>=0.8.0b4 (from streamlit)\n",
      "  Downloading pydeck-0.9.1-py2.py3-none-any.whl.metadata (4.1 kB)\n",
      "Requirement already satisfied: tornado!=6.5.0,<7,>=6.0.3 in c:\\users\\gayat\\appdata\\roaming\\python\\python313\\site-packages (from streamlit) (6.5.2)\n",
      "Collecting jinja2 (from altair!=5.4.0,!=5.4.1,<6,>=4.0->streamlit)\n",
      "  Downloading jinja2-3.1.6-py3-none-any.whl.metadata (2.9 kB)\n",
      "Collecting jsonschema>=3.0 (from altair!=5.4.0,!=5.4.1,<6,>=4.0->streamlit)\n",
      "  Downloading jsonschema-4.25.1-py3-none-any.whl.metadata (7.6 kB)\n",
      "Collecting narwhals>=1.14.2 (from altair!=5.4.0,!=5.4.1,<6,>=4.0->streamlit)\n",
      "  Downloading narwhals-2.6.0-py3-none-any.whl.metadata (11 kB)\n",
      "Requirement already satisfied: colorama in c:\\users\\gayat\\appdata\\roaming\\python\\python313\\site-packages (from click<9,>=7.0->streamlit) (0.4.6)\n",
      "Collecting gitdb<5,>=4.0.1 (from gitpython!=3.1.19,<4,>=3.0.7->streamlit)\n",
      "  Downloading gitdb-4.0.12-py3-none-any.whl.metadata (1.2 kB)\n",
      "Collecting smmap<6,>=3.0.1 (from gitdb<5,>=4.0.1->gitpython!=3.1.19,<4,>=3.0.7->streamlit)\n",
      "  Downloading smmap-5.0.2-py3-none-any.whl.metadata (4.3 kB)\n",
      "Requirement already satisfied: python-dateutil>=2.8.2 in c:\\users\\gayat\\appdata\\roaming\\python\\python313\\site-packages (from pandas<3,>=1.4.0->streamlit) (2.9.0.post0)\n",
      "Requirement already satisfied: pytz>=2020.1 in c:\\users\\gayat\\appdata\\local\\programs\\python\\python313\\lib\\site-packages (from pandas<3,>=1.4.0->streamlit) (2025.2)\n",
      "Requirement already satisfied: tzdata>=2022.7 in c:\\users\\gayat\\appdata\\local\\programs\\python\\python313\\lib\\site-packages (from pandas<3,>=1.4.0->streamlit) (2025.2)\n",
      "Collecting charset_normalizer<4,>=2 (from requests<3,>=2.27->streamlit)\n",
      "  Downloading charset_normalizer-3.4.3-cp313-cp313-win_amd64.whl.metadata (37 kB)\n",
      "Collecting idna<4,>=2.5 (from requests<3,>=2.27->streamlit)\n",
      "  Downloading idna-3.10-py3-none-any.whl.metadata (10 kB)\n",
      "Collecting urllib3<3,>=1.21.1 (from requests<3,>=2.27->streamlit)\n",
      "  Downloading urllib3-2.5.0-py3-none-any.whl.metadata (6.5 kB)\n",
      "Collecting certifi>=2017.4.17 (from requests<3,>=2.27->streamlit)\n",
      "  Downloading certifi-2025.8.3-py3-none-any.whl.metadata (2.4 kB)\n",
      "Collecting MarkupSafe>=2.0 (from jinja2->altair!=5.4.0,!=5.4.1,<6,>=4.0->streamlit)\n",
      "  Downloading markupsafe-3.0.3-cp313-cp313-win_amd64.whl.metadata (2.8 kB)\n",
      "Collecting attrs>=22.2.0 (from jsonschema>=3.0->altair!=5.4.0,!=5.4.1,<6,>=4.0->streamlit)\n",
      "  Downloading attrs-25.3.0-py3-none-any.whl.metadata (10 kB)\n",
      "Collecting jsonschema-specifications>=2023.03.6 (from jsonschema>=3.0->altair!=5.4.0,!=5.4.1,<6,>=4.0->streamlit)\n",
      "  Downloading jsonschema_specifications-2025.9.1-py3-none-any.whl.metadata (2.9 kB)\n",
      "Collecting referencing>=0.28.4 (from jsonschema>=3.0->altair!=5.4.0,!=5.4.1,<6,>=4.0->streamlit)\n",
      "  Downloading referencing-0.36.2-py3-none-any.whl.metadata (2.8 kB)\n",
      "Collecting rpds-py>=0.7.1 (from jsonschema>=3.0->altair!=5.4.0,!=5.4.1,<6,>=4.0->streamlit)\n",
      "  Downloading rpds_py-0.27.1-cp313-cp313-win_amd64.whl.metadata (4.3 kB)\n",
      "Requirement already satisfied: six>=1.5 in c:\\users\\gayat\\appdata\\roaming\\python\\python313\\site-packages (from python-dateutil>=2.8.2->pandas<3,>=1.4.0->streamlit) (1.17.0)\n",
      "Downloading streamlit-1.50.0-py3-none-any.whl (10.1 MB)\n",
      "   ---------------------------------------- 0.0/10.1 MB ? eta -:--:--\n",
      "   - -------------------------------------- 0.3/10.1 MB ? eta -:--:--\n",
      "   -- ------------------------------------- 0.5/10.1 MB 2.3 MB/s eta 0:00:05\n",
      "   --- ------------------------------------ 0.8/10.1 MB 1.4 MB/s eta 0:00:07\n",
      "   --- ------------------------------------ 0.8/10.1 MB 1.4 MB/s eta 0:00:07\n",
      "   ---- ----------------------------------- 1.0/10.1 MB 1.0 MB/s eta 0:00:09\n",
      "   ----- ---------------------------------- 1.3/10.1 MB 1.0 MB/s eta 0:00:09\n",
      "   ------- -------------------------------- 1.8/10.1 MB 1.2 MB/s eta 0:00:08\n",
      "   --------- ------------------------------ 2.4/10.1 MB 1.3 MB/s eta 0:00:06\n",
      "   ----------- ---------------------------- 2.9/10.1 MB 1.5 MB/s eta 0:00:05\n",
      "   ------------ --------------------------- 3.1/10.1 MB 1.4 MB/s eta 0:00:05\n",
      "   ------------- -------------------------- 3.4/10.1 MB 1.5 MB/s eta 0:00:05\n",
      "   ---------------- ----------------------- 4.2/10.1 MB 1.6 MB/s eta 0:00:04\n",
      "   ------------------- -------------------- 5.0/10.1 MB 1.8 MB/s eta 0:00:03\n",
      "   ----------------------- ---------------- 6.0/10.1 MB 2.0 MB/s eta 0:00:02\n",
      "   ----------------------------- ---------- 7.3/10.1 MB 2.3 MB/s eta 0:00:02\n",
      "   ------------------------------- -------- 7.9/10.1 MB 2.4 MB/s eta 0:00:01\n",
      "   --------------------------------- ------ 8.4/10.1 MB 2.3 MB/s eta 0:00:01\n",
      "   ------------------------------------- -- 9.4/10.1 MB 2.5 MB/s eta 0:00:01\n",
      "   ---------------------------------------  10.0/10.1 MB 2.5 MB/s eta 0:00:01\n",
      "   ---------------------------------------  10.0/10.1 MB 2.5 MB/s eta 0:00:01\n",
      "   ---------------------------------------- 10.1/10.1 MB 2.3 MB/s  0:00:04\n",
      "Downloading altair-5.5.0-py3-none-any.whl (731 kB)\n",
      "   ---------------------------------------- 0.0/731.2 kB ? eta -:--:--\n",
      "   ---------------------------- ----------- 524.3/731.2 kB 4.1 MB/s eta 0:00:01\n",
      "   ---------------------------------------- 731.2/731.2 kB 2.1 MB/s  0:00:00\n",
      "Downloading blinker-1.9.0-py3-none-any.whl (8.5 kB)\n",
      "Downloading cachetools-6.2.0-py3-none-any.whl (11 kB)\n",
      "Downloading click-8.3.0-py3-none-any.whl (107 kB)\n",
      "Downloading gitpython-3.1.45-py3-none-any.whl (208 kB)\n",
      "Downloading gitdb-4.0.12-py3-none-any.whl (62 kB)\n",
      "Downloading pillow-11.3.0-cp313-cp313-win_amd64.whl (7.0 MB)\n",
      "   ---------------------------------------- 0.0/7.0 MB ? eta -:--:--\n",
      "   ------- -------------------------------- 1.3/7.0 MB 6.9 MB/s eta 0:00:01\n",
      "   ---------------- ----------------------- 2.9/7.0 MB 7.3 MB/s eta 0:00:01\n",
      "   ---------------------- ----------------- 3.9/7.0 MB 6.4 MB/s eta 0:00:01\n",
      "   ------------------------- -------------- 4.5/7.0 MB 5.4 MB/s eta 0:00:01\n",
      "   ------------------------------- -------- 5.5/7.0 MB 5.5 MB/s eta 0:00:01\n",
      "   ---------------------------------------  6.8/7.0 MB 5.6 MB/s eta 0:00:01\n",
      "   ---------------------------------------- 7.0/7.0 MB 4.7 MB/s  0:00:01\n",
      "Downloading protobuf-6.32.1-cp310-abi3-win_amd64.whl (435 kB)\n",
      "Downloading pydeck-0.9.1-py2.py3-none-any.whl (6.9 MB)\n",
      "   ---------------------------------------- 0.0/6.9 MB ? eta -:--:--\n",
      "   ---------------------------------------- 0.0/6.9 MB ? eta -:--:--\n",
      "   --- ------------------------------------ 0.5/6.9 MB 1.8 MB/s eta 0:00:04\n",
      "   ---- ----------------------------------- 0.8/6.9 MB 1.7 MB/s eta 0:00:04\n",
      "   ------ --------------------------------- 1.0/6.9 MB 1.5 MB/s eta 0:00:04\n",
      "   ------- -------------------------------- 1.3/6.9 MB 1.4 MB/s eta 0:00:05\n",
      "   --------- ------------------------------ 1.6/6.9 MB 1.5 MB/s eta 0:00:04\n",
      "   ------------- -------------------------- 2.4/6.9 MB 1.7 MB/s eta 0:00:03\n",
      "   ------------------ --------------------- 3.1/6.9 MB 2.1 MB/s eta 0:00:02\n",
      "   ---------------------- ----------------- 3.9/6.9 MB 2.3 MB/s eta 0:00:02\n",
      "   ------------------------------ --------- 5.2/6.9 MB 2.7 MB/s eta 0:00:01\n",
      "   ------------------------------------- -- 6.6/6.9 MB 3.0 MB/s eta 0:00:01\n",
      "   ---------------------------------------  6.8/6.9 MB 3.1 MB/s eta 0:00:01\n",
      "   ---------------------------------------- 6.9/6.9 MB 2.9 MB/s  0:00:02\n",
      "Downloading requests-2.32.5-py3-none-any.whl (64 kB)\n",
      "Downloading charset_normalizer-3.4.3-cp313-cp313-win_amd64.whl (107 kB)\n",
      "Downloading idna-3.10-py3-none-any.whl (70 kB)\n",
      "Downloading smmap-5.0.2-py3-none-any.whl (24 kB)\n",
      "Downloading tenacity-9.1.2-py3-none-any.whl (28 kB)\n",
      "Downloading toml-0.10.2-py2.py3-none-any.whl (16 kB)\n",
      "Downloading typing_extensions-4.15.0-py3-none-any.whl (44 kB)\n",
      "Downloading urllib3-2.5.0-py3-none-any.whl (129 kB)\n",
      "Downloading watchdog-6.0.0-py3-none-win_amd64.whl (79 kB)\n",
      "Downloading certifi-2025.8.3-py3-none-any.whl (161 kB)\n",
      "Downloading jinja2-3.1.6-py3-none-any.whl (134 kB)\n",
      "Downloading jsonschema-4.25.1-py3-none-any.whl (90 kB)\n",
      "Downloading attrs-25.3.0-py3-none-any.whl (63 kB)\n",
      "Downloading jsonschema_specifications-2025.9.1-py3-none-any.whl (18 kB)\n",
      "Downloading markupsafe-3.0.3-cp313-cp313-win_amd64.whl (15 kB)\n",
      "Downloading narwhals-2.6.0-py3-none-any.whl (408 kB)\n",
      "Downloading pyarrow-21.0.0-cp313-cp313-win_amd64.whl (26.1 MB)\n",
      "   ---------------------------------------- 0.0/26.1 MB ? eta -:--:--\n",
      "   - -------------------------------------- 0.8/26.1 MB 4.6 MB/s eta 0:00:06\n",
      "   --- ------------------------------------ 2.1/26.1 MB 5.6 MB/s eta 0:00:05\n",
      "   ----- ---------------------------------- 3.7/26.1 MB 6.3 MB/s eta 0:00:04\n",
      "   ------- -------------------------------- 5.0/26.1 MB 6.1 MB/s eta 0:00:04\n",
      "   -------- ------------------------------- 5.8/26.1 MB 5.8 MB/s eta 0:00:04\n",
      "   ---------- ----------------------------- 7.1/26.1 MB 5.7 MB/s eta 0:00:04\n",
      "   ------------ --------------------------- 8.1/26.1 MB 5.7 MB/s eta 0:00:04\n",
      "   -------------- ------------------------- 9.2/26.1 MB 5.4 MB/s eta 0:00:04\n",
      "   --------------- ------------------------ 10.0/26.1 MB 5.2 MB/s eta 0:00:04\n",
      "   ---------------- ----------------------- 11.0/26.1 MB 5.3 MB/s eta 0:00:03\n",
      "   ----------------- ---------------------- 11.5/26.1 MB 5.0 MB/s eta 0:00:03\n",
      "   ------------------- -------------------- 12.6/26.1 MB 5.1 MB/s eta 0:00:03\n",
      "   -------------------- ------------------- 13.4/26.1 MB 4.9 MB/s eta 0:00:03\n",
      "   --------------------- ------------------ 14.2/26.1 MB 4.8 MB/s eta 0:00:03\n",
      "   ---------------------- ----------------- 14.9/26.1 MB 4.7 MB/s eta 0:00:03\n",
      "   ------------------------ --------------- 15.7/26.1 MB 4.7 MB/s eta 0:00:03\n",
      "   ------------------------ --------------- 16.3/26.1 MB 4.5 MB/s eta 0:00:03\n",
      "   ------------------------ --------------- 16.3/26.1 MB 4.5 MB/s eta 0:00:03\n",
      "   -------------------------- ------------- 17.3/26.1 MB 4.3 MB/s eta 0:00:03\n",
      "   --------------------------- ------------ 17.8/26.1 MB 4.2 MB/s eta 0:00:02\n",
      "   ----------------------------- ---------- 19.1/26.1 MB 4.3 MB/s eta 0:00:02\n",
      "   ------------------------------- -------- 20.4/26.1 MB 4.4 MB/s eta 0:00:02\n",
      "   --------------------------------- ------ 21.8/26.1 MB 4.4 MB/s eta 0:00:01\n",
      "   ----------------------------------- ---- 23.1/26.1 MB 4.5 MB/s eta 0:00:01\n",
      "   ------------------------------------- -- 24.6/26.1 MB 4.7 MB/s eta 0:00:01\n",
      "   ---------------------------------------  26.0/26.1 MB 4.7 MB/s eta 0:00:01\n",
      "   ---------------------------------------  26.0/26.1 MB 4.7 MB/s eta 0:00:01\n",
      "   ---------------------------------------  26.0/26.1 MB 4.7 MB/s eta 0:00:01\n",
      "   ---------------------------------------- 26.1/26.1 MB 4.4 MB/s  0:00:06\n",
      "Downloading referencing-0.36.2-py3-none-any.whl (26 kB)\n",
      "Downloading rpds_py-0.27.1-cp313-cp313-win_amd64.whl (232 kB)\n",
      "Installing collected packages: watchdog, urllib3, typing-extensions, toml, tenacity, smmap, rpds-py, pyarrow, protobuf, pillow, narwhals, MarkupSafe, idna, click, charset_normalizer, certifi, cachetools, blinker, attrs, requests, referencing, jinja2, gitdb, pydeck, jsonschema-specifications, gitpython, jsonschema, altair, streamlit\n",
      "\n",
      "   ----------------------------------------  0/29 [watchdog]\n",
      "   ----------------------------------------  0/29 [watchdog]\n",
      "   ----------------------------------------  0/29 [watchdog]\n",
      "   - --------------------------------------  1/29 [urllib3]\n",
      "   - --------------------------------------  1/29 [urllib3]\n",
      "   - --------------------------------------  1/29 [urllib3]\n",
      "   - --------------------------------------  1/29 [urllib3]\n",
      "   -- -------------------------------------  2/29 [typing-extensions]\n",
      "   ---- -----------------------------------  3/29 [toml]\n",
      "   ----- ----------------------------------  4/29 [tenacity]\n",
      "   ----- ----------------------------------  4/29 [tenacity]\n",
      "   ------ ---------------------------------  5/29 [smmap]\n",
      "   -------- -------------------------------  6/29 [rpds-py]\n",
      "   -------- -------------------------------  6/29 [rpds-py]\n",
      "   --------- ------------------------------  7/29 [pyarrow]\n",
      "   --------- ------------------------------  7/29 [pyarrow]\n",
      "   --------- ------------------------------  7/29 [pyarrow]\n",
      "   --------- ------------------------------  7/29 [pyarrow]\n",
      "   --------- ------------------------------  7/29 [pyarrow]\n",
      "   --------- ------------------------------  7/29 [pyarrow]\n",
      "   --------- ------------------------------  7/29 [pyarrow]\n",
      "   --------- ------------------------------  7/29 [pyarrow]\n",
      "   --------- ------------------------------  7/29 [pyarrow]\n",
      "   --------- ------------------------------  7/29 [pyarrow]\n",
      "   --------- ------------------------------  7/29 [pyarrow]\n",
      "   --------- ------------------------------  7/29 [pyarrow]\n",
      "   --------- ------------------------------  7/29 [pyarrow]\n",
      "   --------- ------------------------------  7/29 [pyarrow]\n",
      "   --------- ------------------------------  7/29 [pyarrow]\n",
      "   --------- ------------------------------  7/29 [pyarrow]\n",
      "   --------- ------------------------------  7/29 [pyarrow]\n",
      "   --------- ------------------------------  7/29 [pyarrow]\n",
      "   --------- ------------------------------  7/29 [pyarrow]\n",
      "   --------- ------------------------------  7/29 [pyarrow]\n",
      "   --------- ------------------------------  7/29 [pyarrow]\n",
      "   --------- ------------------------------  7/29 [pyarrow]\n",
      "   --------- ------------------------------  7/29 [pyarrow]\n",
      "   --------- ------------------------------  7/29 [pyarrow]\n",
      "   --------- ------------------------------  7/29 [pyarrow]\n",
      "   --------- ------------------------------  7/29 [pyarrow]\n",
      "   --------- ------------------------------  7/29 [pyarrow]\n",
      "   --------- ------------------------------  7/29 [pyarrow]\n",
      "   --------- ------------------------------  7/29 [pyarrow]\n",
      "   --------- ------------------------------  7/29 [pyarrow]\n",
      "   --------- ------------------------------  7/29 [pyarrow]\n",
      "   --------- ------------------------------  7/29 [pyarrow]\n",
      "   --------- ------------------------------  7/29 [pyarrow]\n",
      "   --------- ------------------------------  7/29 [pyarrow]\n",
      "   --------- ------------------------------  7/29 [pyarrow]\n",
      "   --------- ------------------------------  7/29 [pyarrow]\n",
      "   --------- ------------------------------  7/29 [pyarrow]\n",
      "   --------- ------------------------------  7/29 [pyarrow]\n",
      "   --------- ------------------------------  7/29 [pyarrow]\n",
      "   --------- ------------------------------  7/29 [pyarrow]\n",
      "   --------- ------------------------------  7/29 [pyarrow]\n",
      "   --------- ------------------------------  7/29 [pyarrow]\n",
      "   --------- ------------------------------  7/29 [pyarrow]\n",
      "   --------- ------------------------------  7/29 [pyarrow]\n",
      "   --------- ------------------------------  7/29 [pyarrow]\n",
      "   --------- ------------------------------  7/29 [pyarrow]\n",
      "   --------- ------------------------------  7/29 [pyarrow]\n",
      "   ----------- ----------------------------  8/29 [protobuf]\n",
      "   ----------- ----------------------------  8/29 [protobuf]\n",
      "   ----------- ----------------------------  8/29 [protobuf]\n",
      "   ----------- ----------------------------  8/29 [protobuf]\n",
      "   ----------- ----------------------------  8/29 [protobuf]\n",
      "   ----------- ----------------------------  8/29 [protobuf]\n",
      "   ----------- ----------------------------  8/29 [protobuf]\n",
      "   ----------- ----------------------------  8/29 [protobuf]\n",
      "   ----------- ----------------------------  8/29 [protobuf]\n",
      "   ----------- ----------------------------  8/29 [protobuf]\n",
      "   ----------- ----------------------------  8/29 [protobuf]\n",
      "   ----------- ----------------------------  8/29 [protobuf]\n",
      "   ----------- ----------------------------  8/29 [protobuf]\n",
      "   ----------- ----------------------------  8/29 [protobuf]\n",
      "   ----------- ----------------------------  8/29 [protobuf]\n",
      "   ----------- ----------------------------  8/29 [protobuf]\n",
      "   ----------- ----------------------------  8/29 [protobuf]\n",
      "   ----------- ----------------------------  8/29 [protobuf]\n",
      "   ----------- ----------------------------  8/29 [protobuf]\n",
      "   ----------- ----------------------------  8/29 [protobuf]\n",
      "   ------------ ---------------------------  9/29 [pillow]\n",
      "   ------------ ---------------------------  9/29 [pillow]\n",
      "   ------------ ---------------------------  9/29 [pillow]\n",
      "   ------------ ---------------------------  9/29 [pillow]\n",
      "   ------------ ---------------------------  9/29 [pillow]\n",
      "   ------------ ---------------------------  9/29 [pillow]\n",
      "   ------------ ---------------------------  9/29 [pillow]\n",
      "   ------------ ---------------------------  9/29 [pillow]\n",
      "   ------------ ---------------------------  9/29 [pillow]\n",
      "   ------------ ---------------------------  9/29 [pillow]\n",
      "   ------------ ---------------------------  9/29 [pillow]\n",
      "   ------------ ---------------------------  9/29 [pillow]\n",
      "   ------------ ---------------------------  9/29 [pillow]\n",
      "   ------------- -------------------------- 10/29 [narwhals]\n",
      "   ------------- -------------------------- 10/29 [narwhals]\n",
      "   ------------- -------------------------- 10/29 [narwhals]\n",
      "   ------------- -------------------------- 10/29 [narwhals]\n",
      "   ------------- -------------------------- 10/29 [narwhals]\n",
      "   ------------- -------------------------- 10/29 [narwhals]\n",
      "   ------------- -------------------------- 10/29 [narwhals]\n",
      "   ------------- -------------------------- 10/29 [narwhals]\n",
      "   ------------- -------------------------- 10/29 [narwhals]\n",
      "   ------------- -------------------------- 10/29 [narwhals]\n",
      "   ------------- -------------------------- 10/29 [narwhals]\n",
      "   ------------- -------------------------- 10/29 [narwhals]\n",
      "   ------------- -------------------------- 10/29 [narwhals]\n",
      "   ------------- -------------------------- 10/29 [narwhals]\n",
      "   ------------- -------------------------- 10/29 [narwhals]\n",
      "   ------------- -------------------------- 10/29 [narwhals]\n",
      "   ------------- -------------------------- 10/29 [narwhals]\n",
      "   ------------- -------------------------- 10/29 [narwhals]\n",
      "   ------------- -------------------------- 10/29 [narwhals]\n",
      "   ------------- -------------------------- 10/29 [narwhals]\n",
      "   ------------- -------------------------- 10/29 [narwhals]\n",
      "   ------------- -------------------------- 10/29 [narwhals]\n",
      "   --------------- ------------------------ 11/29 [MarkupSafe]\n",
      "   --------------- ------------------------ 11/29 [MarkupSafe]\n",
      "   ---------------- ----------------------- 12/29 [idna]\n",
      "   ---------------- ----------------------- 12/29 [idna]\n",
      "   ----------------- ---------------------- 13/29 [click]\n",
      "   ----------------- ---------------------- 13/29 [click]\n",
      "   ----------------- ---------------------- 13/29 [click]\n",
      "   ------------------- -------------------- 14/29 [charset_normalizer]\n",
      "   ------------------- -------------------- 14/29 [charset_normalizer]\n",
      "   -------------------- ------------------- 15/29 [certifi]\n",
      "   -------------------- ------------------- 15/29 [certifi]\n",
      "   -------------------- ------------------- 15/29 [certifi]\n",
      "   -------------------- ------------------- 15/29 [certifi]\n",
      "   ---------------------- ----------------- 16/29 [cachetools]\n",
      "   ---------------------- ----------------- 16/29 [cachetools]\n",
      "   ----------------------- ---------------- 17/29 [blinker]\n",
      "   ------------------------ --------------- 18/29 [attrs]\n",
      "   ------------------------ --------------- 18/29 [attrs]\n",
      "   ------------------------ --------------- 18/29 [attrs]\n",
      "   -------------------------- ------------- 19/29 [requests]\n",
      "   -------------------------- ------------- 19/29 [requests]\n",
      "   --------------------------- ------------ 20/29 [referencing]\n",
      "   ---------------------------- ----------- 21/29 [jinja2]\n",
      "   ---------------------------- ----------- 21/29 [jinja2]\n",
      "   ---------------------------- ----------- 21/29 [jinja2]\n",
      "   ---------------------------- ----------- 21/29 [jinja2]\n",
      "   ---------------------------- ----------- 21/29 [jinja2]\n",
      "   ------------------------------ --------- 22/29 [gitdb]\n",
      "   ------------------------------ --------- 22/29 [gitdb]\n",
      "   ------------------------------ --------- 22/29 [gitdb]\n",
      "   ------------------------------- -------- 23/29 [pydeck]\n",
      "   ------------------------------- -------- 23/29 [pydeck]\n",
      "   ------------------------------- -------- 23/29 [pydeck]\n",
      "   ------------------------------- -------- 23/29 [pydeck]\n",
      "   ------------------------------- -------- 23/29 [pydeck]\n",
      "   --------------------------------- ------ 24/29 [jsonschema-specifications]\n",
      "   ---------------------------------- ----- 25/29 [gitpython]\n",
      "   ---------------------------------- ----- 25/29 [gitpython]\n",
      "   ---------------------------------- ----- 25/29 [gitpython]\n",
      "   ---------------------------------- ----- 25/29 [gitpython]\n",
      "   ---------------------------------- ----- 25/29 [gitpython]\n",
      "   ---------------------------------- ----- 25/29 [gitpython]\n",
      "   ---------------------------------- ----- 25/29 [gitpython]\n",
      "   ---------------------------------- ----- 25/29 [gitpython]\n",
      "   ---------------------------------- ----- 25/29 [gitpython]\n",
      "   ---------------------------------- ----- 25/29 [gitpython]\n",
      "   ---------------------------------- ----- 25/29 [gitpython]\n",
      "   ---------------------------------- ----- 25/29 [gitpython]\n",
      "   ---------------------------------- ----- 25/29 [gitpython]\n",
      "   ---------------------------------- ----- 25/29 [gitpython]\n",
      "   ---------------------------------- ----- 25/29 [gitpython]\n",
      "   ---------------------------------- ----- 25/29 [gitpython]\n",
      "   ---------------------------------- ----- 25/29 [gitpython]\n",
      "   ---------------------------------- ----- 25/29 [gitpython]\n",
      "   ---------------------------------- ----- 25/29 [gitpython]\n",
      "   ---------------------------------- ----- 25/29 [gitpython]\n",
      "   ---------------------------------- ----- 25/29 [gitpython]\n",
      "   ---------------------------------- ----- 25/29 [gitpython]\n",
      "   ---------------------------------- ----- 25/29 [gitpython]\n",
      "   ---------------------------------- ----- 25/29 [gitpython]\n",
      "   ----------------------------------- ---- 26/29 [jsonschema]\n",
      "   ----------------------------------- ---- 26/29 [jsonschema]\n",
      "   ----------------------------------- ---- 26/29 [jsonschema]\n",
      "   ----------------------------------- ---- 26/29 [jsonschema]\n",
      "   ----------------------------------- ---- 26/29 [jsonschema]\n",
      "   ----------------------------------- ---- 26/29 [jsonschema]\n",
      "   ----------------------------------- ---- 26/29 [jsonschema]\n",
      "   ----------------------------------- ---- 26/29 [jsonschema]\n",
      "   ----------------------------------- ---- 26/29 [jsonschema]\n",
      "   ------------------------------------- -- 27/29 [altair]\n",
      "   ------------------------------------- -- 27/29 [altair]\n",
      "   ------------------------------------- -- 27/29 [altair]\n",
      "   ------------------------------------- -- 27/29 [altair]\n",
      "   ------------------------------------- -- 27/29 [altair]\n",
      "   ------------------------------------- -- 27/29 [altair]\n",
      "   -------------------------------------- - 28/29 [streamlit]\n",
      "   -------------------------------------- - 28/29 [streamlit]\n",
      "   -------------------------------------- - 28/29 [streamlit]\n",
      "   -------------------------------------- - 28/29 [streamlit]\n",
      "   -------------------------------------- - 28/29 [streamlit]\n",
      "   -------------------------------------- - 28/29 [streamlit]\n",
      "   -------------------------------------- - 28/29 [streamlit]\n",
      "   -------------------------------------- - 28/29 [streamlit]\n",
      "   -------------------------------------- - 28/29 [streamlit]\n",
      "   -------------------------------------- - 28/29 [streamlit]\n",
      "   -------------------------------------- - 28/29 [streamlit]\n",
      "   -------------------------------------- - 28/29 [streamlit]\n",
      "   -------------------------------------- - 28/29 [streamlit]\n",
      "   -------------------------------------- - 28/29 [streamlit]\n",
      "   -------------------------------------- - 28/29 [streamlit]\n",
      "   -------------------------------------- - 28/29 [streamlit]\n",
      "   -------------------------------------- - 28/29 [streamlit]\n",
      "   -------------------------------------- - 28/29 [streamlit]\n",
      "   -------------------------------------- - 28/29 [streamlit]\n",
      "   -------------------------------------- - 28/29 [streamlit]\n",
      "   -------------------------------------- - 28/29 [streamlit]\n",
      "   -------------------------------------- - 28/29 [streamlit]\n",
      "   -------------------------------------- - 28/29 [streamlit]\n",
      "   -------------------------------------- - 28/29 [streamlit]\n",
      "   -------------------------------------- - 28/29 [streamlit]\n",
      "   -------------------------------------- - 28/29 [streamlit]\n",
      "   -------------------------------------- - 28/29 [streamlit]\n",
      "   -------------------------------------- - 28/29 [streamlit]\n",
      "   -------------------------------------- - 28/29 [streamlit]\n",
      "   -------------------------------------- - 28/29 [streamlit]\n",
      "   -------------------------------------- - 28/29 [streamlit]\n",
      "   -------------------------------------- - 28/29 [streamlit]\n",
      "   -------------------------------------- - 28/29 [streamlit]\n",
      "   -------------------------------------- - 28/29 [streamlit]\n",
      "   -------------------------------------- - 28/29 [streamlit]\n",
      "   -------------------------------------- - 28/29 [streamlit]\n",
      "   -------------------------------------- - 28/29 [streamlit]\n",
      "   -------------------------------------- - 28/29 [streamlit]\n",
      "   -------------------------------------- - 28/29 [streamlit]\n",
      "   -------------------------------------- - 28/29 [streamlit]\n",
      "   -------------------------------------- - 28/29 [streamlit]\n",
      "   -------------------------------------- - 28/29 [streamlit]\n",
      "   -------------------------------------- - 28/29 [streamlit]\n",
      "   -------------------------------------- - 28/29 [streamlit]\n",
      "   -------------------------------------- - 28/29 [streamlit]\n",
      "   -------------------------------------- - 28/29 [streamlit]\n",
      "   -------------------------------------- - 28/29 [streamlit]\n",
      "   -------------------------------------- - 28/29 [streamlit]\n",
      "   -------------------------------------- - 28/29 [streamlit]\n",
      "   ---------------------------------------- 29/29 [streamlit]\n",
      "\n",
      "Successfully installed MarkupSafe-3.0.3 altair-5.5.0 attrs-25.3.0 blinker-1.9.0 cachetools-6.2.0 certifi-2025.8.3 charset_normalizer-3.4.3 click-8.3.0 gitdb-4.0.12 gitpython-3.1.45 idna-3.10 jinja2-3.1.6 jsonschema-4.25.1 jsonschema-specifications-2025.9.1 narwhals-2.6.0 pillow-11.3.0 protobuf-6.32.1 pyarrow-21.0.0 pydeck-0.9.1 referencing-0.36.2 requests-2.32.5 rpds-py-0.27.1 smmap-5.0.2 streamlit-1.50.0 tenacity-9.1.2 toml-0.10.2 typing-extensions-4.15.0 urllib3-2.5.0 watchdog-6.0.0\n",
      "Note: you may need to restart the kernel to use updated packages.\n"
     ]
    }
   ],
   "source": [
    "pip install streamlit"
   ]
  },
  {
   "cell_type": "code",
   "execution_count": null,
   "id": "1cd0ae70",
   "metadata": {},
   "outputs": [],
   "source": [
    "import stramlit as st\n",
    "st.set_page_config(page_title=\"PhonePe\", layout=\"wide\")\n",
    "st.title(\"Analysing with PhonePe Data for the Market Growth\")\n"
   ]
  },
  {
   "cell_type": "code",
   "execution_count": null,
   "id": "6d0fbe23",
   "metadata": {},
   "outputs": [],
   "source": [
    "import ploty "
   ]
  },
  {
   "cell_type": "code",
   "execution_count": 12,
   "id": "7ca8e2c1",
   "metadata": {},
   "outputs": [
    {
     "name": "stdout",
     "output_type": "stream",
     "text": [
      "[('Aggregate_Transaction',), ('Aggregate_User',), ('Aggregate_Insurance',), ('Map_Transaction',), ('Map_User',), ('Map_Insurance',), ('Top_Transaction',), ('Top_User',), ('Top_Insurance',)]\n"
     ]
    }
   ],
   "source": [
    "cursor.execute(\"SELECT name FROM sqlite_master WHERE type='table';\")\n",
    "print(cursor.fetchall())"
   ]
  },
  {
   "cell_type": "code",
   "execution_count": 13,
   "id": "73f09e1f",
   "metadata": {},
   "outputs": [
    {
     "name": "stdout",
     "output_type": "stream",
     "text": [
      "['State', 'Year', 'Quater', 'Transaction_Name', 'Insurance_Count', 'Insurance_Amount']\n"
     ]
    }
   ],
   "source": [
    "df = pd.read_sql_query(\"SELECT * FROM Aggregate_Insurance LIMIT 5;\", conn)\n",
    "print(df.columns.tolist())\n"
   ]
  },
  {
   "cell_type": "code",
   "execution_count": 91,
   "id": "66ca7e60",
   "metadata": {},
   "outputs": [
    {
     "name": "stdout",
     "output_type": "stream",
     "text": [
      "south twenty four parganas district\n",
      "*********************\n",
      "{'registeredUsers': 2525913, 'appOpens': 148514597}\n",
      "*********************\n",
      "2525913\n",
      "*********************\n",
      "148514597\n",
      "purba bardhaman district\n",
      "*********************\n",
      "{'registeredUsers': 1435548, 'appOpens': 84180749}\n",
      "*********************\n",
      "1435548\n",
      "*********************\n",
      "84180749\n",
      "uttar dinajpur district\n",
      "*********************\n",
      "{'registeredUsers': 922938, 'appOpens': 66212953}\n",
      "*********************\n",
      "922938\n",
      "*********************\n",
      "66212953\n",
      "kalimpong district\n",
      "*********************\n",
      "{'registeredUsers': 78277, 'appOpens': 4244012}\n",
      "*********************\n",
      "78277\n",
      "*********************\n",
      "4244012\n",
      "murshidabad district\n",
      "*********************\n",
      "{'registeredUsers': 2463675, 'appOpens': 165497019}\n",
      "*********************\n",
      "2463675\n",
      "*********************\n",
      "165497019\n",
      "paschim medinipur district\n",
      "*********************\n",
      "{'registeredUsers': 1522845, 'appOpens': 80731143}\n",
      "*********************\n",
      "1522845\n",
      "*********************\n",
      "80731143\n",
      "dakshin dinajpur district\n",
      "*********************\n",
      "{'registeredUsers': 489732, 'appOpens': 30374022}\n",
      "*********************\n",
      "489732\n",
      "*********************\n",
      "30374022\n",
      "jalpaiguri district\n",
      "*********************\n",
      "{'registeredUsers': 647266, 'appOpens': 42531734}\n",
      "*********************\n",
      "647266\n",
      "*********************\n",
      "42531734\n",
      "purulia district\n",
      "*********************\n",
      "{'registeredUsers': 809355, 'appOpens': 56448658}\n",
      "*********************\n",
      "809355\n",
      "*********************\n",
      "56448658\n",
      "north twenty four parganas district\n",
      "*********************\n",
      "{'registeredUsers': 5085095, 'appOpens': 234840305}\n",
      "*********************\n",
      "5085095\n",
      "*********************\n",
      "234840305\n",
      "bankura district\n",
      "*********************\n",
      "{'registeredUsers': 1017304, 'appOpens': 49393224}\n",
      "*********************\n",
      "1017304\n",
      "*********************\n",
      "49393224\n",
      "jhargram district\n",
      "*********************\n",
      "{'registeredUsers': 282208, 'appOpens': 14361554}\n",
      "*********************\n",
      "282208\n",
      "*********************\n",
      "14361554\n",
      "darjeeling district\n",
      "*********************\n",
      "{'registeredUsers': 881187, 'appOpens': 56941907}\n",
      "*********************\n",
      "881187\n",
      "*********************\n",
      "56941907\n",
      "cooch behar district\n",
      "*********************\n",
      "{'registeredUsers': 932485, 'appOpens': 53702834}\n",
      "*********************\n",
      "932485\n",
      "*********************\n",
      "53702834\n",
      "malda district\n",
      "*********************\n",
      "{'registeredUsers': 1444985, 'appOpens': 122226269}\n",
      "*********************\n",
      "1444985\n",
      "*********************\n",
      "122226269\n",
      "howrah district\n",
      "*********************\n",
      "{'registeredUsers': 2140752, 'appOpens': 116704834}\n",
      "*********************\n",
      "2140752\n",
      "*********************\n",
      "116704834\n",
      "hooghly district\n",
      "*********************\n",
      "{'registeredUsers': 1957356, 'appOpens': 96383119}\n",
      "*********************\n",
      "1957356\n",
      "*********************\n",
      "96383119\n",
      "kolkata district\n",
      "*********************\n",
      "{'registeredUsers': 3476288, 'appOpens': 178709399}\n",
      "*********************\n",
      "3476288\n",
      "*********************\n",
      "178709399\n",
      "alipurduar district\n",
      "*********************\n",
      "{'registeredUsers': 475688, 'appOpens': 31842355}\n",
      "*********************\n",
      "475688\n",
      "*********************\n",
      "31842355\n",
      "paschim bardhaman district\n",
      "*********************\n",
      "{'registeredUsers': 1468252, 'appOpens': 80543469}\n",
      "*********************\n",
      "1468252\n",
      "*********************\n",
      "80543469\n",
      "nadia district\n",
      "*********************\n",
      "{'registeredUsers': 1861738, 'appOpens': 98740305}\n",
      "*********************\n",
      "1861738\n",
      "*********************\n",
      "98740305\n",
      "birbhum district\n",
      "*********************\n",
      "{'registeredUsers': 1114220, 'appOpens': 73465525}\n",
      "*********************\n",
      "1114220\n",
      "*********************\n",
      "73465525\n",
      "purba medinipur district\n",
      "*********************\n",
      "{'registeredUsers': 1717074, 'appOpens': 108350777}\n",
      "*********************\n",
      "1717074\n",
      "*********************\n",
      "108350777\n"
     ]
    }
   ],
   "source": [
    "a=user_data[\"data\"][\"hoverData\"]\n",
    "for i,j in a.items():\n",
    "    print(i)\n",
    "    print('*********************')\n",
    "    print(j)\n",
    "    print('*********************')\n",
    "    print(j['registeredUsers'])\n",
    "    print('*********************')\n",
    "    print(j['appOpens'])\n",
    "\n",
    "    \n",
    "    \n"
   ]
  },
  {
   "cell_type": "code",
   "execution_count": 85,
   "id": "86d2b47a",
   "metadata": {},
   "outputs": [
    {
     "data": {
      "text/plain": [
       "{'success': True,\n",
       " 'code': 'SUCCESS',\n",
       " 'data': {'aggregated': {'registeredUsers': 34750181, 'appOpens': 1994940763},\n",
       "  'usersByDevice': None},\n",
       " 'responseTimestamp': 1739974566918}"
      ]
     },
     "execution_count": 85,
     "metadata": {},
     "output_type": "execute_result"
    }
   ],
   "source": [
    "lode"
   ]
  },
  {
   "cell_type": "code",
   "execution_count": null,
   "id": "60dbe6e4",
   "metadata": {},
   "outputs": [],
   "source": []
  },
  {
   "cell_type": "code",
   "execution_count": 79,
   "id": "5225039f",
   "metadata": {},
   "outputs": [
    {
     "data": {
      "text/plain": [
       "{'from': 1727740800000,\n",
       " 'to': 1735344000000,\n",
       " 'transactionData': [{'name': 'Merchant payments',\n",
       "   'paymentInstruments': [{'type': 'TOTAL',\n",
       "     'count': 655100809,\n",
       "     'amount': 389286175909.0}]},\n",
       "  {'name': 'Peer-to-peer payments',\n",
       "   'paymentInstruments': [{'type': 'TOTAL',\n",
       "     'count': 493217788,\n",
       "     'amount': 1361927136312.0}]},\n",
       "  {'name': 'Recharge & bill payments',\n",
       "   'paymentInstruments': [{'type': 'TOTAL',\n",
       "     'count': 76043195,\n",
       "     'amount': 57534056540.0}]},\n",
       "  {'name': 'Financial Services',\n",
       "   'paymentInstruments': [{'type': 'TOTAL',\n",
       "     'count': 2352084,\n",
       "     'amount': 847296537.0}]},\n",
       "  {'name': 'Others',\n",
       "   'paymentInstruments': [{'type': 'TOTAL',\n",
       "     'count': 421806,\n",
       "     'amount': 505364108.0}]}]}"
      ]
     },
     "execution_count": 79,
     "metadata": {},
     "output_type": "execute_result"
    }
   ],
   "source": [
    "lod[\"data\"]"
   ]
  },
  {
   "cell_type": "code",
   "execution_count": 37,
   "id": "a375972f",
   "metadata": {},
   "outputs": [
    {
     "data": {
      "text/plain": [
       "{'name': 'Merchant payments',\n",
       " 'paymentInstruments': [{'type': 'TOTAL',\n",
       "   'count': 655100809,\n",
       "   'amount': 389286175909.0}]}"
      ]
     },
     "execution_count": 37,
     "metadata": {},
     "output_type": "execute_result"
    }
   ],
   "source": [
    "lod[\"data\"][\"transactionData\"][0]"
   ]
  },
  {
   "cell_type": "code",
   "execution_count": 55,
   "id": "6bfb71b6",
   "metadata": {},
   "outputs": [
    {
     "data": {
      "text/plain": [
       "{'name': 'Peer-to-peer payments',\n",
       " 'paymentInstruments': [{'type': 'TOTAL',\n",
       "   'count': 493217788,\n",
       "   'amount': 1361927136312.0}]}"
      ]
     },
     "execution_count": 55,
     "metadata": {},
     "output_type": "execute_result"
    }
   ],
   "source": [
    "lod[\"data\"][\"transactionData\"][1]"
   ]
  },
  {
   "cell_type": "code",
   "execution_count": 56,
   "id": "f2850b20",
   "metadata": {},
   "outputs": [
    {
     "data": {
      "text/plain": [
       "[{'type': 'TOTAL', 'count': 655100809, 'amount': 389286175909.0}]"
      ]
     },
     "execution_count": 56,
     "metadata": {},
     "output_type": "execute_result"
    }
   ],
   "source": [
    "lod[\"data\"][\"transactionData\"][0]['paymentInstruments']"
   ]
  },
  {
   "cell_type": "code",
   "execution_count": 49,
   "id": "c5a59206",
   "metadata": {},
   "outputs": [
    {
     "data": {
      "text/plain": [
       "389286175909.0"
      ]
     },
     "execution_count": 49,
     "metadata": {},
     "output_type": "execute_result"
    }
   ],
   "source": [
    "lod[\"data\"][\"transactionData\"][0]['paymentInstruments'][0]['amount']"
   ]
  },
  {
   "cell_type": "code",
   "execution_count": null,
   "id": "c13ab08b",
   "metadata": {},
   "outputs": [],
   "source": []
  }
 ],
 "metadata": {
  "kernelspec": {
   "display_name": "Python 3",
   "language": "python",
   "name": "python3"
  },
  "language_info": {
   "codemirror_mode": {
    "name": "ipython",
    "version": 3
   },
   "file_extension": ".py",
   "mimetype": "text/x-python",
   "name": "python",
   "nbconvert_exporter": "python",
   "pygments_lexer": "ipython3",
   "version": "3.13.7"
  }
 },
 "nbformat": 4,
 "nbformat_minor": 5
}
